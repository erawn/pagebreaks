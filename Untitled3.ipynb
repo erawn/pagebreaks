{
 "cells": [
  {
   "cell_type": "code",
   "execution_count": 1,
   "id": "75a1c9c4-6e04-4a12-9f40-6c6df0a62a94",
   "metadata": {},
   "outputs": [],
   "source": [
    "import pagebreak.pagebreak"
   ]
  },
  {
   "cell_type": "code",
   "execution_count": 3,
   "id": "d8f2ca91-ac6b-48e8-b1d8-5329f6ee5591",
   "metadata": {},
   "outputs": [
    {
     "data": {
      "text/plain": [
       "'/Users/erawn/notebook/pagebreak/src/pagebreak/__init__.py'"
      ]
     },
     "execution_count": 3,
     "metadata": {},
     "output_type": "execute_result"
    }
   ],
   "source": [
    "pagebreak.__file__"
   ]
  },
  {
   "cell_type": "code",
   "execution_count": null,
   "id": "f5c7733b-b66e-4fea-a4f3-45be99b92bb9",
   "metadata": {},
   "outputs": [],
   "source": [
    "!pip uninstall pagebreak -Y"
   ]
  },
  {
   "cell_type": "code",
   "execution_count": null,
   "id": "04557572-58ea-484c-bc45-e44b5536d48f",
   "metadata": {},
   "outputs": [],
   "source": []
  },
  {
   "cell_type": "code",
   "execution_count": null,
   "id": "4771b80c-83e8-4360-99a2-c65b5a5b2586",
   "metadata": {},
   "outputs": [],
   "source": []
  }
 ],
 "metadata": {
  "kernelspec": {
   "display_name": "Python 3 (ipykernel)",
   "language": "python",
   "name": "python3"
  },
  "language_info": {
   "codemirror_mode": {
    "name": "ipython",
    "version": 3
   },
   "file_extension": ".py",
   "mimetype": "text/x-python",
   "name": "python",
   "nbconvert_exporter": "python",
   "pygments_lexer": "ipython3",
   "version": "3.12.2"
  }
 },
 "nbformat": 4,
 "nbformat_minor": 5
}
