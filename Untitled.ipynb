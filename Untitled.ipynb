{
 "cells": [
  {
   "cell_type": "code",
   "execution_count": 3,
   "id": "9c7ccdfb-f438-4957-a977-4a21303251eb",
   "metadata": {},
   "outputs": [],
   "source": [
    "a = 3\n",
    "b = 'test'\n",
    "c = [3,2,1]"
   ]
  },
  {
   "cell_type": "code",
   "execution_count": 4,
   "id": "6de20637-1986-461a-8231-b04850016fb9",
   "metadata": {},
   "outputs": [
    {
     "name": "stdout",
     "output_type": "stream",
     "text": [
      "Variable   Type   Scope   Export Exist?   \n",
      "a          list   0       False           \n",
      "b          list   0       False           \n",
      "c          list   0       False           \n"
     ]
    }
   ],
   "source": [
    "%who_pb"
   ]
  },
  {
   "cell_type": "code",
   "execution_count": 5,
   "id": "30415aad-a8dc-4d82-b8d1-90c63bc69183",
   "metadata": {},
   "outputs": [
    {
     "data": {
      "text/plain": [
       "['pb_0_a', 'pb_0_b', 'pb_0_c']"
      ]
     },
     "execution_count": 5,
     "metadata": {},
     "output_type": "execute_result"
    }
   ],
   "source": [
    "%who_ls"
   ]
  },
  {
   "cell_type": "code",
   "execution_count": 6,
   "id": "79c0e8d2-94be-4d8e-94a3-d5d9b48f60d3",
   "metadata": {},
   "outputs": [
    {
     "name": "stdout",
     "output_type": "stream",
     "text": [
      "pb_0_a\t pb_0_b\t pb_0_c\t \n"
     ]
    }
   ],
   "source": [
    "%who"
   ]
  },
  {
   "cell_type": "code",
   "execution_count": 7,
   "id": "eddd8d24-5be5-438a-9775-d70dcd775c1b",
   "metadata": {},
   "outputs": [
    {
     "name": "stdout",
     "output_type": "stream",
     "text": [
      "Variable   Type    Data/Info\n",
      "----------------------------\n",
      "pb_0_a     int     3\n",
      "pb_0_b     str     test\n",
      "pb_0_c     list    n=3\n"
     ]
    }
   ],
   "source": [
    "%whos"
   ]
  },
  {
   "cell_type": "code",
   "execution_count": null,
   "id": "f5b76373-a403-43bd-a217-07b38da81d22",
   "metadata": {},
   "outputs": [],
   "source": []
  },
  {
   "cell_type": "code",
   "execution_count": null,
   "id": "42afe96b-0bc3-4fd7-b130-fa0e79a3e0b3",
   "metadata": {},
   "outputs": [],
   "source": []
  }
 ],
 "metadata": {
  "kernelspec": {
   "display_name": "Python 3 (ipykernel)",
   "language": "python",
   "name": "python3"
  },
  "language_info": {
   "codemirror_mode": {
    "name": "ipython",
    "version": 3
   },
   "file_extension": ".py",
   "mimetype": "text/x-python",
   "name": "python",
   "nbconvert_exporter": "python",
   "pygments_lexer": "ipython3",
   "version": "3.12.3"
  }
 },
 "nbformat": 4,
 "nbformat_minor": 5
}
