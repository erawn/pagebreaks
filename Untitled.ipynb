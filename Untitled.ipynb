{
 "cells": [
  {
   "cell_type": "code",
   "execution_count": 6,
   "id": "a0fcd8ab-f865-4cbd-9fc2-fa95e546df44",
   "metadata": {},
   "outputs": [],
   "source": [
    "import pagebreak_ip.extension\n",
    "%load_ext pagebreak_ip.extension"
   ]
  },
  {
   "cell_type": "code",
   "execution_count": 7,
   "id": "a1e7516c-00c2-4355-aa8e-a20c85865b9b",
   "metadata": {},
   "outputs": [
    {
     "name": "stdout",
     "output_type": "stream",
     "text": [
      "New Definitions Found:\n",
      "set()\n",
      "<class 'ast.Load'>\n"
     ]
    },
    {
     "data": {
      "text/plain": [
       "'/Users/erawn/notebook/pagebreaks/pagebreak_ip/__init__.py'"
      ]
     },
     "execution_count": 7,
     "metadata": {},
     "output_type": "execute_result"
    }
   ],
   "source": [
    "pagebreak_ip.__file__"
   ]
  },
  {
   "cell_type": "code",
   "execution_count": 4,
   "id": "18e84381-d81d-4b08-9d02-69006e141a1f",
   "metadata": {},
   "outputs": [
    {
     "name": "stdout",
     "output_type": "stream",
     "text": [
      "tracked names found\n",
      "set()\n"
     ]
    }
   ],
   "source": [
    "import pagebreak.pagebreak"
   ]
  },
  {
   "cell_type": "code",
   "execution_count": 5,
   "id": "a4d75e47-4c42-4831-bdcd-9a55a3ee86a3",
   "metadata": {},
   "outputs": [
    {
     "name": "stdout",
     "output_type": "stream",
     "text": [
      "tracked names found\n",
      "set()\n",
      "<class 'ast.Load'>\n"
     ]
    },
    {
     "data": {
      "text/plain": [
       "'/Users/erawn/notebook/pagebreak/src/pagebreak/__init__.py'"
      ]
     },
     "execution_count": 5,
     "metadata": {},
     "output_type": "execute_result"
    }
   ],
   "source": [
    "pagebreak.__file__"
   ]
  },
  {
   "cell_type": "code",
   "execution_count": null,
   "id": "d142a3c7-b3a5-478b-b51e-7da68846d5bd",
   "metadata": {},
   "outputs": [],
   "source": []
  }
 ],
 "metadata": {
  "kernelspec": {
   "display_name": "Python 3 (ipykernel)",
   "language": "python",
   "name": "python3"
  },
  "language_info": {
   "codemirror_mode": {
    "name": "ipython",
    "version": 3
   },
   "file_extension": ".py",
   "mimetype": "text/x-python",
   "name": "python",
   "nbconvert_exporter": "python",
   "pygments_lexer": "ipython3",
   "version": "3.12.2"
  }
 },
 "nbformat": 4,
 "nbformat_minor": 5
}
