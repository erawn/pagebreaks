{
 "cells": [
  {
   "cell_type": "markdown",
   "id": "96213e44-5add-4916-99aa-bdf92ee22c2e",
   "metadata": {
    "deletable": false,
    "pagebreakheader": true
   },
   "source": [
    "# New Pagebreak "
   ]
  },
  {
   "cell_type": "code",
   "execution_count": 2,
   "id": "3a7c2ec7-28d6-4333-9cca-1a5830504fd3",
   "metadata": {},
   "outputs": [],
   "source": [
    "a = 3\n",
    "c = 2"
   ]
  },
  {
   "cell_type": "raw",
   "id": "bdbb7230-eb78-437a-a298-db99f0cab3c8",
   "metadata": {
    "deletable": false,
    "pagebreak": true
   },
   "source": [
    "export { a b }"
   ]
  },
  {
   "cell_type": "markdown",
   "id": "c20d84b7-61a5-4255-aa09-24285a3b9c08",
   "metadata": {
    "deletable": false,
    "pagebreakheader": true
   },
   "source": [
    "# New Pagebreak "
   ]
  },
  {
   "cell_type": "code",
   "execution_count": 5,
   "id": "ea972339-1123-465f-a881-d165edfdaa26",
   "metadata": {
    "scrolled": true
   },
   "outputs": [
    {
     "name": "stdout",
     "output_type": "stream",
     "text": [
      "ignoring name d\n",
      "ignoring name testing\n",
      "ignoring name d\n",
      "Variable   Type    Data/Info\n",
      "----------------------------\n",
      "d          int     3\n",
      "pb_1_c     int     3\n",
      "testing    int     3\n"
     ]
    }
   ],
   "source": [
    "#pagebreaks: ignore_name d\n",
    "#pagebreaks: ignore_name testing\n",
    "c = 3\n",
    "d = c\n",
    "testing = d\n",
    "%whos"
   ]
  },
  {
   "cell_type": "code",
   "execution_count": 13,
   "id": "e236e01d-108a-40e2-873b-2cdc9f0fd155",
   "metadata": {},
   "outputs": [],
   "source": [
    "testing = 5"
   ]
  },
  {
   "cell_type": "raw",
   "id": "0f02ee7d-318d-42b2-b9d1-874cef777c8c",
   "metadata": {
    "deletable": false,
    "pagebreak": true
   },
   "source": [
    "export { testing }"
   ]
  },
  {
   "cell_type": "markdown",
   "id": "b50e91d7-1d06-41bd-b5d5-d02598d40926",
   "metadata": {
    "deletable": false,
    "pagebreakheader": true
   },
   "source": [
    "# New Pagebreak "
   ]
  },
  {
   "cell_type": "code",
   "execution_count": 16,
   "id": "5aadb64c-c5cc-4b4a-b0c8-e818627ade38",
   "metadata": {},
   "outputs": [
    {
     "name": "stdout",
     "output_type": "stream",
     "text": [
      "Variable            Type    Data/Info\n",
      "-------------------------------------\n",
      "d                   int     3\n",
      "pb_1_c              int     3\n",
      "pb_1_testing        int     5\n",
      "pb_2_testing        int     4\n",
      "pb_export_testing   int     5\n",
      "testing             int     3\n"
     ]
    }
   ],
   "source": [
    "%whos"
   ]
  },
  {
   "cell_type": "raw",
   "id": "f382994c-0c95-4c35-bb8f-30e13cdf3df5",
   "metadata": {
    "deletable": false,
    "pagebreak": true
   },
   "source": [
    "export {  }"
   ]
  },
  {
   "cell_type": "code",
   "execution_count": 3,
   "id": "42afe96b-0bc3-4fd7-b130-fa0e79a3e0b3",
   "metadata": {},
   "outputs": [
    {
     "name": "stdout",
     "output_type": "stream",
     "text": [
      "[{\"index\": 1, \"id\": \"3a7c2ec7-28d6-4333-9cca-1a5830504fd3\", \"type\": \"code\", \"variables\": [], \"source\": \"a = 3\\nc = 2\", \"newText\": \"pb_0_a = 3\\npb_0_c = 2\"}, {\"index\": 2, \"id\": \"bdbb7230-eb78-437a-a298-db99f0cab3c8\", \"type\": \"pagebreak\", \"variables\": [[\"a\", \"b\"]], \"pbNum\": 0, \"newText\": \"pb_export_a = pb_0_a\\npb_export_b = pb_0_b\"}, {\"index\": 4, \"id\": \"ea972339-1123-465f-a881-d165edfdaa26\", \"type\": \"code\", \"variables\": [], \"source\": \"c = 3\\nprint(b)\", \"newText\": \"pb_1_c = 3\\nprint(b)\"}, {\"index\": 5, \"id\": \"0f02ee7d-318d-42b2-b9d1-874cef777c8c\", \"type\": \"pagebreak\", \"variables\": [[]], \"pbNum\": 1, \"newText\": \"\"}, {\"index\": 7, \"id\": \"5aadb64c-c5cc-4b4a-b0c8-e818627ade38\", \"type\": \"code\", \"variables\": [], \"source\": \"print(c)\", \"newText\": \"print(c)\"}, {\"index\": 8, \"id\": \"f382994c-0c95-4c35-bb8f-30e13cdf3df5\", \"type\": \"pagebreak\", \"variables\": [[]], \"pbNum\": 2, \"newText\": \"\"}, {\"index\": 9, \"id\": \"42afe96b-0bc3-4fd7-b130-fa0e79a3e0b3\", \"type\": \"code\", \"variables\": [], \"source\": \"%%pb_transform \\n[{\\\"index\\\":1,\\\"id\\\":\\\"3a7c2ec7-28d6-4333-9cca-1a5830504fd3\\\",\\\"type\\\":\\\"code\\\",\\\"variables\\\":[],\\\"source\\\":\\\"a = 3\\\"},{\\\"index\\\":2,\\\"id\\\":\\\"bdbb7230-eb78-437a-a298-db99f0cab3c8\\\",\\\"type\\\":\\\"pagebreak\\\",\\\"variables\\\":[[\\\"a\\\"]],\\\"pbNum\\\":0},{\\\"index\\\":4,\\\"id\\\":\\\"5aadb64c-c5cc-4b4a-b0c8-e818627ade38\\\",\\\"type\\\":\\\"code\\\",\\\"variables\\\":[],\\\"source\\\":\\\"print(a)\\\"},{\\\"index\\\":5,\\\"id\\\":\\\"f382994c-0c95-4c35-bb8f-30e13cdf3df5\\\",\\\"type\\\":\\\"pagebreak\\\",\\\"variables\\\":[[]],\\\"pbNum\\\":1},{\\\"index\\\":6,\\\"id\\\":\\\"42afe96b-0bc3-4fd7-b130-fa0e79a3e0b3\\\",\\\"type\\\":\\\"code\\\",\\\"variables\\\":[],\\\"source\\\":\\\"\\\"}]\", \"newText\": \"get_ipython().run_cell_magic('pb_transform', '', '[{\\\"index\\\":1,\\\"id\\\":\\\"3a7c2ec7-28d6-4333-9cca-1a5830504fd3\\\",\\\"type\\\":\\\"code\\\",\\\"variables\\\":[],\\\"source\\\":\\\"a = 3\\\"},{\\\"index\\\":2,\\\"id\\\":\\\"bdbb7230-eb78-437a-a298-db99f0cab3c8\\\",\\\"type\\\":\\\"pagebreak\\\",\\\"variables\\\":[[\\\"a\\\"]],\\\"pbNum\\\":0},{\\\"index\\\":4,\\\"id\\\":\\\"5aadb64c-c5cc-4b4a-b0c8-e818627ade38\\\",\\\"type\\\":\\\"code\\\",\\\"variables\\\":[],\\\"source\\\":\\\"print(a)\\\"},{\\\"index\\\":5,\\\"id\\\":\\\"f382994c-0c95-4c35-bb8f-30e13cdf3df5\\\",\\\"type\\\":\\\"pagebreak\\\",\\\"variables\\\":[[]],\\\"pbNum\\\":1},{\\\"index\\\":6,\\\"id\\\":\\\"42afe96b-0bc3-4fd7-b130-fa0e79a3e0b3\\\",\\\"type\\\":\\\"code\\\",\\\"variables\\\":[],\\\"source\\\":\\\"\\\"}]\\\\n')\"}, {\"index\": 10, \"id\": \"be1ea651-7993-4396-9d0e-a4226de83598\", \"type\": \"code\", \"variables\": [], \"source\": \"%print_schema\", \"newText\": \"get_ipython().run_line_magic('print_schema', '')\"}, {\"index\": 11, \"id\": \"fb4b3cdd-43c3-4238-a842-44b6009d24f7\", \"type\": \"code\", \"variables\": [], \"source\": \"\", \"newText\": \"\"}]\n"
     ]
    }
   ],
   "source": [
    "%%pb_transform \n",
    "[{\"index\":1,\"id\":\"3a7c2ec7-28d6-4333-9cca-1a5830504fd3\",\"type\":\"code\",\"variables\":[],\"source\":\"a = 3\\nc = 2\"},{\"index\":2,\"id\":\"bdbb7230-eb78-437a-a298-db99f0cab3c8\",\"type\":\"pagebreak\",\"variables\":[[\"a\",\"b\"]],\"pbNum\":0},{\"index\":4,\"id\":\"ea972339-1123-465f-a881-d165edfdaa26\",\"type\":\"code\",\"variables\":[],\"source\":\"c = 3\\nprint(b)\"},{\"index\":5,\"id\":\"0f02ee7d-318d-42b2-b9d1-874cef777c8c\",\"type\":\"pagebreak\",\"variables\":[[]],\"pbNum\":1},{\"index\":7,\"id\":\"5aadb64c-c5cc-4b4a-b0c8-e818627ade38\",\"type\":\"code\",\"variables\":[],\"source\":\"print(c)\"},{\"index\":8,\"id\":\"f382994c-0c95-4c35-bb8f-30e13cdf3df5\",\"type\":\"pagebreak\",\"variables\":[[]],\"pbNum\":2},{\"index\":9,\"id\":\"42afe96b-0bc3-4fd7-b130-fa0e79a3e0b3\",\"type\":\"code\",\"variables\":[],\"source\":\"%%pb_transform \\n[{\\\"index\\\":1,\\\"id\\\":\\\"3a7c2ec7-28d6-4333-9cca-1a5830504fd3\\\",\\\"type\\\":\\\"code\\\",\\\"variables\\\":[],\\\"source\\\":\\\"a = 3\\\"},{\\\"index\\\":2,\\\"id\\\":\\\"bdbb7230-eb78-437a-a298-db99f0cab3c8\\\",\\\"type\\\":\\\"pagebreak\\\",\\\"variables\\\":[[\\\"a\\\"]],\\\"pbNum\\\":0},{\\\"index\\\":4,\\\"id\\\":\\\"5aadb64c-c5cc-4b4a-b0c8-e818627ade38\\\",\\\"type\\\":\\\"code\\\",\\\"variables\\\":[],\\\"source\\\":\\\"print(a)\\\"},{\\\"index\\\":5,\\\"id\\\":\\\"f382994c-0c95-4c35-bb8f-30e13cdf3df5\\\",\\\"type\\\":\\\"pagebreak\\\",\\\"variables\\\":[[]],\\\"pbNum\\\":1},{\\\"index\\\":6,\\\"id\\\":\\\"42afe96b-0bc3-4fd7-b130-fa0e79a3e0b3\\\",\\\"type\\\":\\\"code\\\",\\\"variables\\\":[],\\\"source\\\":\\\"\\\"}]\"},{\"index\":10,\"id\":\"be1ea651-7993-4396-9d0e-a4226de83598\",\"type\":\"code\",\"variables\":[],\"source\":\"%print_schema\"},{\"index\":11,\"id\":\"fb4b3cdd-43c3-4238-a842-44b6009d24f7\",\"type\":\"code\",\"variables\":[],\"source\":\"\"}]"
   ]
  },
  {
   "cell_type": "code",
   "execution_count": 1,
   "id": "be1ea651-7993-4396-9d0e-a4226de83598",
   "metadata": {},
   "outputs": [
    {
     "name": "stdout",
     "output_type": "stream",
     "text": [
      "{\"cellsToScopes\": {\"96213e44-5add-4916-99aa-bdf92ee22c2e\": 0, \"3a7c2ec7-28d6-4333-9cca-1a5830504fd3\": 0, \"c20d84b7-61a5-4255-aa09-24285a3b9c08\": 1, \"ea972339-1123-465f-a881-d165edfdaa26\": 1, \"b50e91d7-1d06-41bd-b5d5-d02598d40926\": 2, \"5aadb64c-c5cc-4b4a-b0c8-e818627ade38\": 2, \"42afe96b-0bc3-4fd7-b130-fa0e79a3e0b3\": 3, \"be1ea651-7993-4396-9d0e-a4226de83598\": 3, \"fb4b3cdd-43c3-4238-a842-44b6009d24f7\": 3}, \"scopeList\": {\"0\": [\"a\", \"b\"], \"1\": [], \"2\": []}, \"scopes\": [{\"index\": 2, \"pbNum\": 0, \"exportedVariables\": [\"a\", \"b\"], \"id\": \"bdbb7230-eb78-437a-a298-db99f0cab3c8\"}, {\"index\": 5, \"pbNum\": 1, \"exportedVariables\": [], \"id\": \"0f02ee7d-318d-42b2-b9d1-874cef777c8c\"}, {\"index\": 8, \"pbNum\": 2, \"exportedVariables\": [], \"id\": \"f382994c-0c95-4c35-bb8f-30e13cdf3df5\"}], \"cellList\": [{\"index\": 0, \"id\": \"96213e44-5add-4916-99aa-bdf92ee22c2e\", \"type\": \"header\", \"variables\": []}, {\"index\": 1, \"id\": \"3a7c2ec7-28d6-4333-9cca-1a5830504fd3\", \"type\": \"code\", \"variables\": []}, {\"index\": 2, \"id\": \"bdbb7230-eb78-437a-a298-db99f0cab3c8\", \"type\": \"pagebreak\", \"variables\": [\"a\", \"b\"]}, {\"index\": 3, \"id\": \"c20d84b7-61a5-4255-aa09-24285a3b9c08\", \"type\": \"header\", \"variables\": []}, {\"index\": 4, \"id\": \"ea972339-1123-465f-a881-d165edfdaa26\", \"type\": \"code\", \"variables\": []}, {\"index\": 5, \"id\": \"0f02ee7d-318d-42b2-b9d1-874cef777c8c\", \"type\": \"pagebreak\", \"variables\": []}, {\"index\": 6, \"id\": \"b50e91d7-1d06-41bd-b5d5-d02598d40926\", \"type\": \"header\", \"variables\": []}, {\"index\": 7, \"id\": \"5aadb64c-c5cc-4b4a-b0c8-e818627ade38\", \"type\": \"code\", \"variables\": []}, {\"index\": 8, \"id\": \"f382994c-0c95-4c35-bb8f-30e13cdf3df5\", \"type\": \"pagebreak\", \"variables\": []}, {\"index\": 9, \"id\": \"42afe96b-0bc3-4fd7-b130-fa0e79a3e0b3\", \"type\": \"code\", \"variables\": []}, {\"index\": 10, \"id\": \"be1ea651-7993-4396-9d0e-a4226de83598\", \"type\": \"code\", \"variables\": []}, {\"index\": 11, \"id\": \"fb4b3cdd-43c3-4238-a842-44b6009d24f7\", \"type\": \"code\", \"variables\": []}]}\n"
     ]
    }
   ],
   "source": [
    "%print_schema"
   ]
  },
  {
   "cell_type": "code",
   "execution_count": null,
   "id": "fb4b3cdd-43c3-4238-a842-44b6009d24f7",
   "metadata": {},
   "outputs": [],
   "source": []
  }
 ],
 "metadata": {
  "kernelspec": {
   "display_name": "Python 3 (ipykernel)",
   "language": "python",
   "name": "python3"
  },
  "language_info": {
   "codemirror_mode": {
    "name": "ipython",
    "version": 3
   },
   "file_extension": ".py",
   "mimetype": "text/x-python",
   "name": "python",
   "nbconvert_exporter": "python",
   "pygments_lexer": "ipython3",
   "version": "3.12.3"
  }
 },
 "nbformat": 4,
 "nbformat_minor": 5
}
