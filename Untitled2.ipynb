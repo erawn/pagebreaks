{
 "cells": [
  {
   "cell_type": "code",
   "execution_count": 3,
   "id": "9adeaf3c-375c-4461-afa4-2df877bd46e0",
   "metadata": {},
   "outputs": [
    {
     "name": "stdout",
     "output_type": "stream",
     "text": [
      "tracked names found\n",
      "set()\n"
     ]
    }
   ],
   "source": [
    "import pagebreak.pagebreak"
   ]
  },
  {
   "cell_type": "code",
   "execution_count": 4,
   "id": "2edf4ed5-8776-474c-a04d-5b4bd34ac55b",
   "metadata": {},
   "outputs": [
    {
     "ename": "SyntaxError",
     "evalue": "invalid syntax (3246129272.py, line 1)",
     "output_type": "error",
     "traceback": [
      "\u001b[0;36m  Cell \u001b[0;32mIn[4], line 1\u001b[0;36m\u001b[0m\n\u001b[0;31m    where pagebreak\u001b[0m\n\u001b[0m          ^\u001b[0m\n\u001b[0;31mSyntaxError\u001b[0m\u001b[0;31m:\u001b[0m invalid syntax\n"
     ]
    }
   ],
   "source": [
    "where pagebreak"
   ]
  },
  {
   "cell_type": "code",
   "execution_count": 5,
   "id": "49e656d2-f44d-4217-9cb5-517ae8abd16e",
   "metadata": {},
   "outputs": [
    {
     "name": "stdout",
     "output_type": "stream",
     "text": [
      "tracked names found\n",
      "set()\n",
      "<class 'ast.Load'>\n",
      "<class 'ast.Load'>\n",
      "/Users/erawn/notebook/pagebreak/src/pagebreak/__init__.py\n"
     ]
    }
   ],
   "source": [
    "print(pagebreak.__file__)"
   ]
  },
  {
   "cell_type": "code",
   "execution_count": null,
   "id": "cc2ce825-a1c1-4893-abe5-fb4c23eba48d",
   "metadata": {},
   "outputs": [],
   "source": []
  }
 ],
 "metadata": {
  "kernelspec": {
   "display_name": "Python 3 (ipykernel)",
   "language": "python",
   "name": "python3"
  },
  "language_info": {
   "codemirror_mode": {
    "name": "ipython",
    "version": 3
   },
   "file_extension": ".py",
   "mimetype": "text/x-python",
   "name": "python",
   "nbconvert_exporter": "python",
   "pygments_lexer": "ipython3",
   "version": "3.12.2"
  }
 },
 "nbformat": 4,
 "nbformat_minor": 5
}
