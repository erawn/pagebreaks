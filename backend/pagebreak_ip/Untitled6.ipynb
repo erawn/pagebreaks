{
 "cells": [
  {
   "cell_type": "code",
   "execution_count": 2,
   "id": "b9fbeb7b-f6b7-4d62-878b-574b64a38582",
   "metadata": {},
   "outputs": [],
   "source": [
    "a = 2  \n",
    "def f():\n",
    "    print(a)"
   ]
  },
  {
   "cell_type": "code",
   "execution_count": null,
   "id": "fa064223-d833-41e1-998f-ac8406f58aef",
   "metadata": {},
   "outputs": [],
   "source": []
  },
  {
   "cell_type": "raw",
   "id": "d5f03661-1ef4-4d4d-a1da-b3eaaa71cd52",
   "metadata": {},
   "source": [
    "pb f{a,b,c} b a "
   ]
  },
  {
   "cell_type": "code",
   "execution_count": 3,
   "id": "bc5ccf89-dc70-4bba-b888-8f64326f9e3f",
   "metadata": {},
   "outputs": [
    {
     "name": "stdout",
     "output_type": "stream",
     "text": [
      "2\n"
     ]
    }
   ],
   "source": []
  },
  {
   "cell_type": "code",
   "execution_count": 7,
   "id": "63b4f745-c838-4389-bb2b-8d02cf64b5d8",
   "metadata": {},
   "outputs": [
    {
     "data": {
      "text/plain": [
       "2"
      ]
     },
     "execution_count": 7,
     "metadata": {},
     "output_type": "execute_result"
    }
   ],
   "source": [
    "a"
   ]
  },
  {
   "cell_type": "code",
   "execution_count": null,
   "id": "f918ff72-bd56-441d-be14-e346561d0fd7",
   "metadata": {},
   "outputs": [],
   "source": []
  },
  {
   "cell_type": "raw",
   "id": "0b13c9b1-2b1e-40c5-a74b-8131a9c0a08d",
   "metadata": {},
   "source": [
    "pb collect(f)=(d,f,g)"
   ]
  },
  {
   "cell_type": "code",
   "execution_count": 5,
   "id": "80f374eb-3932-48f5-8419-08a894e0d76b",
   "metadata": {},
   "outputs": [
    {
     "name": "stdout",
     "output_type": "stream",
     "text": [
      "2\n"
     ]
    }
   ],
   "source": [
    "f[1]"
   ]
  },
  {
   "cell_type": "code",
   "execution_count": null,
   "id": "740c8bc8-26e9-4af0-9ed5-7b6c213ef372",
   "metadata": {},
   "outputs": [],
   "source": []
  }
 ],
 "metadata": {
  "kernelspec": {
   "display_name": "Python 3 (ipykernel)",
   "language": "python",
   "name": "python3"
  },
  "language_info": {
   "codemirror_mode": {
    "name": "ipython",
    "version": 3
   },
   "file_extension": ".py",
   "mimetype": "text/x-python",
   "name": "python",
   "nbconvert_exporter": "python",
   "pygments_lexer": "ipython3",
   "version": "3.12.2"
  }
 },
 "nbformat": 4,
 "nbformat_minor": 5
}
