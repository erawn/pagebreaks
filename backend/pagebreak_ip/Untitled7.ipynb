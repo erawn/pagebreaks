{
 "cells": [
  {
   "cell_type": "code",
   "execution_count": 21,
   "id": "07ad649e-a484-46cf-ba5a-8210b87d8c20",
   "metadata": {},
   "outputs": [],
   "source": [
    "a = 4 \n",
    "b = 10\n",
    "\n",
    "def f():\n",
    "    print(a)"
   ]
  },
  {
   "cell_type": "raw",
   "id": "9385ef5f-f193-4ec3-ad7a-97209578f116",
   "metadata": {},
   "source": [
    "pb f a"
   ]
  },
  {
   "cell_type": "markdown",
   "id": "e928b8f7-da41-4ce3-afdc-3b1eff1041ac",
   "metadata": {
    "jp-MarkdownHeadingCollapsed": true
   },
   "source": [
    "# Analysis\n"
   ]
  },
  {
   "cell_type": "markdown",
   "id": "474120fc-9105-4179-9413-78c2cbdcd538",
   "metadata": {},
   "source": [
    "# render "
   ]
  },
  {
   "cell_type": "code",
   "execution_count": 23,
   "id": "ce72b4d6-da79-40f9-839f-0484c616d588",
   "metadata": {},
   "outputs": [
    {
     "ename": "NameError",
     "evalue": "name 'pb_1_a' is not defined",
     "output_type": "error",
     "traceback": [
      "\u001b[0;31m---------------------------------------------------------------------------\u001b[0m",
      "\u001b[0;31mNameError\u001b[0m                                 Traceback (most recent call last)",
      "Cell \u001b[0;32mIn[23], line 1\u001b[0m\n\u001b[0;32m----> 1\u001b[0m a\n",
      "\u001b[0;31mNameError\u001b[0m: name 'pb_1_a' is not defined"
     ]
    }
   ],
   "source": [
    "a"
   ]
  },
  {
   "cell_type": "code",
   "execution_count": 25,
   "id": "44a8ddac-429d-418d-8288-4e7cc83dab76",
   "metadata": {},
   "outputs": [
    {
     "name": "stdout",
     "output_type": "stream",
     "text": [
      "4\n"
     ]
    }
   ],
   "source": [
    "a = 5\n",
    "f()"
   ]
  },
  {
   "cell_type": "raw",
   "id": "d7fd9886-bcd8-44f2-ab04-3e253f7786e3",
   "metadata": {},
   "source": [
    "pb d "
   ]
  },
  {
   "cell_type": "code",
   "execution_count": 24,
   "id": "5a94199e-b607-469d-82b3-aeb2c93cc8a2",
   "metadata": {},
   "outputs": [
    {
     "data": {
      "text/plain": [
       "['pb_0_a',\n",
       " 'pb_0_b',\n",
       " 'pb_0_c',\n",
       " 'pb_0_d',\n",
       " 'pb_0_f',\n",
       " 'pb_1_d',\n",
       " 'pb_export_a',\n",
       " 'pb_export_c',\n",
       " 'pb_export_f']"
      ]
     },
     "execution_count": 24,
     "metadata": {},
     "output_type": "execute_result"
    }
   ],
   "source": [
    "%who_ls"
   ]
  },
  {
   "cell_type": "raw",
   "id": "4b2c4a00-0c31-49ab-98f5-74303bc893b2",
   "metadata": {},
   "source": [
    "pb d "
   ]
  },
  {
   "cell_type": "code",
   "execution_count": null,
   "id": "f3b54ffa-abff-4870-b084-c8603c7714ab",
   "metadata": {},
   "outputs": [],
   "source": []
  }
 ],
 "metadata": {
  "kernelspec": {
   "display_name": "Python 3 (ipykernel)",
   "language": "python",
   "name": "python3"
  },
  "language_info": {
   "codemirror_mode": {
    "name": "ipython",
    "version": 3
   },
   "file_extension": ".py",
   "mimetype": "text/x-python",
   "name": "python",
   "nbconvert_exporter": "python",
   "pygments_lexer": "ipython3",
   "version": "3.12.2"
  }
 },
 "nbformat": 4,
 "nbformat_minor": 5
}
