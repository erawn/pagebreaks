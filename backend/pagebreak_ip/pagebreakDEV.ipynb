{
 "cells": [
  {
   "cell_type": "code",
   "execution_count": 2,
   "id": "c7ad8658-6343-4570-9bb6-594a3bca9bf8",
   "metadata": {
    "pagebreak_schema": "{\"cellsToScopes\":{\"c7ad8658-6343-4570-9bb6-594a3bca9bf8\":0,\"f5549241-a653-4e36-ac39-b1f877942069\":0,\"6011ad04-19fb-4cd3-8c59-1f79775216c2\":1,\"b53a64d3-180e-4ecf-9b5a-cd168c9cff5b\":1,\"4817584d-ccf3-495b-8695-15ad475ab56b\":1,\"885235c3-e063-4050-bac7-71c2a4e4a124\":2,\"bfd2ddd6-6eda-44aa-a391-de3694b4761f\":2,\"8d255261-a5e6-4a61-8926-89e358fbd145\":2,\"fd2fe05c-7739-47fa-a80e-643781be2b7f\":2,\"1c7bedff-8a64-45b2-a82c-54f220166a12\":2},\"scopeList\":{\"0\":[\"d\",\"f\"],\"1\":[\"g\",\"h\",\"\"]}}"
   },
   "outputs": [
    {
     "name": "stdout",
     "output_type": "stream",
     "text": [
      "setting data: astWalkData(currentContext=0, userDefinedVariables=set(), exportedVariables={0: {'f', 'd'}, 1: {'', 'h', 'g'}})\n",
      "setting current context to: 0\n",
      "saved variables {'a'}\n",
      "transforming a 0\n",
      "changing name [a] to [pb_0_a]\n",
      "transforming a 0\n"
     ]
    }
   ],
   "source": [
    "a = 12"
   ]
  },
  {
   "cell_type": "code",
   "execution_count": 3,
   "id": "f5549241-a653-4e36-ac39-b1f877942069",
   "metadata": {
    "pagebreak_schema": "{\"cellsToScopes\":{\"c7ad8658-6343-4570-9bb6-594a3bca9bf8\":0,\"f5549241-a653-4e36-ac39-b1f877942069\":0,\"6011ad04-19fb-4cd3-8c59-1f79775216c2\":1,\"b53a64d3-180e-4ecf-9b5a-cd168c9cff5b\":1,\"4817584d-ccf3-495b-8695-15ad475ab56b\":1,\"885235c3-e063-4050-bac7-71c2a4e4a124\":2,\"bfd2ddd6-6eda-44aa-a391-de3694b4761f\":2,\"8d255261-a5e6-4a61-8926-89e358fbd145\":2,\"fd2fe05c-7739-47fa-a80e-643781be2b7f\":2,\"1c7bedff-8a64-45b2-a82c-54f220166a12\":2},\"scopeList\":{\"0\":[\"d\",\"f\"],\"1\":[\"g\",\"h\",\"\"]}}",
    "scrolled": true
   },
   "outputs": [
    {
     "name": "stdout",
     "output_type": "stream",
     "text": [
      "setting data: astWalkData(currentContext=0, userDefinedVariables=set(), exportedVariables={0: {'f', 'd'}, 1: {'', 'h', 'g'}})\n",
      "setting current context to: 0\n",
      "saved variables {'d'}\n",
      "transforming d 0\n",
      "changing name [d] to [pb_0_d]\n",
      "transforming d 0\n"
     ]
    }
   ],
   "source": [
    "d = 122"
   ]
  },
  {
   "cell_type": "raw",
   "id": "f52ffe16-4c16-424c-85a2-dbe388a820c7",
   "metadata": {
    "pagebreak_schema": "{\"cellsToScopes\":{\"c7ad8658-6343-4570-9bb6-594a3bca9bf8\":0,\"f5549241-a653-4e36-ac39-b1f877942069\":0,\"6011ad04-19fb-4cd3-8c59-1f79775216c2\":1,\"b53a64d3-180e-4ecf-9b5a-cd168c9cff5b\":1,\"4817584d-ccf3-495b-8695-15ad475ab56b\":1,\"885235c3-e063-4050-bac7-71c2a4e4a124\":2,\"bfd2ddd6-6eda-44aa-a391-de3694b4761f\":2,\"8d255261-a5e6-4a61-8926-89e358fbd145\":2,\"fd2fe05c-7739-47fa-a80e-643781be2b7f\":2,\"1c7bedff-8a64-45b2-a82c-54f220166a12\":2},\"scopeList\":{\"0\":[\"d\",\"f\"],\"1\":[\"g\",\"h\",\"\"]}}",
    "scrolled": true
   },
   "source": [
    "pb d f"
   ]
  },
  {
   "cell_type": "code",
   "execution_count": null,
   "id": "6011ad04-19fb-4cd3-8c59-1f79775216c2",
   "metadata": {
    "pagebreak_schema": "{\"cellsToScopes\":{\"c7ad8658-6343-4570-9bb6-594a3bca9bf8\":0,\"f5549241-a653-4e36-ac39-b1f877942069\":0,\"6011ad04-19fb-4cd3-8c59-1f79775216c2\":1,\"b53a64d3-180e-4ecf-9b5a-cd168c9cff5b\":1,\"4817584d-ccf3-495b-8695-15ad475ab56b\":1,\"885235c3-e063-4050-bac7-71c2a4e4a124\":2,\"bfd2ddd6-6eda-44aa-a391-de3694b4761f\":2,\"8d255261-a5e6-4a61-8926-89e358fbd145\":2,\"fd2fe05c-7739-47fa-a80e-643781be2b7f\":2,\"1c7bedff-8a64-45b2-a82c-54f220166a12\":2},\"scopeList\":{\"0\":[\"d\",\"f\"],\"1\":[\"g\",\"h\",\"\"]}}"
   },
   "outputs": [],
   "source": [
    "print(d)"
   ]
  },
  {
   "cell_type": "code",
   "execution_count": null,
   "id": "b53a64d3-180e-4ecf-9b5a-cd168c9cff5b",
   "metadata": {
    "pagebreak_schema": "{\"cellsToScopes\":{\"c7ad8658-6343-4570-9bb6-594a3bca9bf8\":0,\"f5549241-a653-4e36-ac39-b1f877942069\":0,\"6011ad04-19fb-4cd3-8c59-1f79775216c2\":1,\"b53a64d3-180e-4ecf-9b5a-cd168c9cff5b\":1,\"4817584d-ccf3-495b-8695-15ad475ab56b\":1,\"885235c3-e063-4050-bac7-71c2a4e4a124\":2,\"bfd2ddd6-6eda-44aa-a391-de3694b4761f\":2,\"8d255261-a5e6-4a61-8926-89e358fbd145\":2,\"fd2fe05c-7739-47fa-a80e-643781be2b7f\":2,\"1c7bedff-8a64-45b2-a82c-54f220166a12\":2},\"scopeList\":{\"0\":[\"d\",\"f\"],\"1\":[\"g\",\"h\",\"\"]}}",
    "scrolled": true
   },
   "outputs": [],
   "source": [
    "%who_ls"
   ]
  },
  {
   "cell_type": "code",
   "execution_count": null,
   "id": "4817584d-ccf3-495b-8695-15ad475ab56b",
   "metadata": {
    "pagebreak_schema": "{\"cellsToScopes\":{\"c7ad8658-6343-4570-9bb6-594a3bca9bf8\":0,\"f5549241-a653-4e36-ac39-b1f877942069\":0,\"6011ad04-19fb-4cd3-8c59-1f79775216c2\":1,\"b53a64d3-180e-4ecf-9b5a-cd168c9cff5b\":1,\"4817584d-ccf3-495b-8695-15ad475ab56b\":1,\"885235c3-e063-4050-bac7-71c2a4e4a124\":2,\"bfd2ddd6-6eda-44aa-a391-de3694b4761f\":2,\"8d255261-a5e6-4a61-8926-89e358fbd145\":2,\"fd2fe05c-7739-47fa-a80e-643781be2b7f\":2,\"1c7bedff-8a64-45b2-a82c-54f220166a12\":2},\"scopeList\":{\"0\":[\"d\",\"f\"],\"1\":[\"g\",\"h\",\"\"]}}"
   },
   "outputs": [],
   "source": [
    "g = 299"
   ]
  },
  {
   "cell_type": "raw",
   "id": "f0775b4c-7724-404f-b89c-c17a15fe2f62",
   "metadata": {
    "pagebreak_schema": "{\"cellsToScopes\":{\"c7ad8658-6343-4570-9bb6-594a3bca9bf8\":0,\"f5549241-a653-4e36-ac39-b1f877942069\":0,\"6011ad04-19fb-4cd3-8c59-1f79775216c2\":1,\"b53a64d3-180e-4ecf-9b5a-cd168c9cff5b\":1,\"4817584d-ccf3-495b-8695-15ad475ab56b\":1,\"885235c3-e063-4050-bac7-71c2a4e4a124\":2,\"bfd2ddd6-6eda-44aa-a391-de3694b4761f\":2,\"8d255261-a5e6-4a61-8926-89e358fbd145\":2,\"fd2fe05c-7739-47fa-a80e-643781be2b7f\":2,\"1c7bedff-8a64-45b2-a82c-54f220166a12\":2},\"scopeList\":{\"0\":[\"d\",\"f\"],\"1\":[\"g\",\"h\",\"\"]}}"
   },
   "source": [
    "pb g h "
   ]
  },
  {
   "cell_type": "code",
   "execution_count": null,
   "id": "885235c3-e063-4050-bac7-71c2a4e4a124",
   "metadata": {
    "pagebreak_schema": "{\"cellsToScopes\":{\"c7ad8658-6343-4570-9bb6-594a3bca9bf8\":0,\"f5549241-a653-4e36-ac39-b1f877942069\":0,\"6011ad04-19fb-4cd3-8c59-1f79775216c2\":1,\"b53a64d3-180e-4ecf-9b5a-cd168c9cff5b\":1,\"4817584d-ccf3-495b-8695-15ad475ab56b\":1,\"885235c3-e063-4050-bac7-71c2a4e4a124\":2,\"bfd2ddd6-6eda-44aa-a391-de3694b4761f\":2,\"8d255261-a5e6-4a61-8926-89e358fbd145\":2,\"fd2fe05c-7739-47fa-a80e-643781be2b7f\":2,\"1c7bedff-8a64-45b2-a82c-54f220166a12\":2},\"scopeList\":{\"0\":[\"d\",\"f\"],\"1\":[\"g\",\"h\",\"\"]}}"
   },
   "outputs": [],
   "source": []
  },
  {
   "cell_type": "code",
   "execution_count": null,
   "id": "bfd2ddd6-6eda-44aa-a391-de3694b4761f",
   "metadata": {
    "pagebreak_schema": "{\"cellsToScopes\":{\"c7ad8658-6343-4570-9bb6-594a3bca9bf8\":0,\"f5549241-a653-4e36-ac39-b1f877942069\":0,\"6011ad04-19fb-4cd3-8c59-1f79775216c2\":1,\"b53a64d3-180e-4ecf-9b5a-cd168c9cff5b\":1,\"4817584d-ccf3-495b-8695-15ad475ab56b\":1,\"885235c3-e063-4050-bac7-71c2a4e4a124\":2,\"bfd2ddd6-6eda-44aa-a391-de3694b4761f\":2,\"8d255261-a5e6-4a61-8926-89e358fbd145\":2,\"fd2fe05c-7739-47fa-a80e-643781be2b7f\":2,\"1c7bedff-8a64-45b2-a82c-54f220166a12\":2},\"scopeList\":{\"0\":[\"d\",\"f\"],\"1\":[\"g\",\"h\",\"\"]}}"
   },
   "outputs": [],
   "source": [
    "3"
   ]
  },
  {
   "cell_type": "code",
   "execution_count": null,
   "id": "8d255261-a5e6-4a61-8926-89e358fbd145",
   "metadata": {
    "pagebreak_schema": "{\"cellsToScopes\":{\"c7ad8658-6343-4570-9bb6-594a3bca9bf8\":0,\"f5549241-a653-4e36-ac39-b1f877942069\":0,\"6011ad04-19fb-4cd3-8c59-1f79775216c2\":1,\"b53a64d3-180e-4ecf-9b5a-cd168c9cff5b\":1,\"4817584d-ccf3-495b-8695-15ad475ab56b\":1,\"885235c3-e063-4050-bac7-71c2a4e4a124\":2,\"bfd2ddd6-6eda-44aa-a391-de3694b4761f\":2,\"8d255261-a5e6-4a61-8926-89e358fbd145\":2,\"fd2fe05c-7739-47fa-a80e-643781be2b7f\":2,\"1c7bedff-8a64-45b2-a82c-54f220166a12\":2},\"scopeList\":{\"0\":[\"d\",\"f\"],\"1\":[\"g\",\"h\",\"\"]}}"
   },
   "outputs": [],
   "source": []
  },
  {
   "cell_type": "code",
   "execution_count": null,
   "id": "fd2fe05c-7739-47fa-a80e-643781be2b7f",
   "metadata": {
    "pagebreak_schema": "{\"cellsToScopes\":{\"c7ad8658-6343-4570-9bb6-594a3bca9bf8\":0,\"f5549241-a653-4e36-ac39-b1f877942069\":0,\"6011ad04-19fb-4cd3-8c59-1f79775216c2\":1,\"b53a64d3-180e-4ecf-9b5a-cd168c9cff5b\":1,\"4817584d-ccf3-495b-8695-15ad475ab56b\":1,\"885235c3-e063-4050-bac7-71c2a4e4a124\":2,\"bfd2ddd6-6eda-44aa-a391-de3694b4761f\":2,\"8d255261-a5e6-4a61-8926-89e358fbd145\":2,\"fd2fe05c-7739-47fa-a80e-643781be2b7f\":2,\"1c7bedff-8a64-45b2-a82c-54f220166a12\":2},\"scopeList\":{\"0\":[\"d\",\"f\"],\"1\":[\"g\",\"h\",\"\"]}}"
   },
   "outputs": [],
   "source": []
  },
  {
   "cell_type": "code",
   "execution_count": null,
   "id": "1c7bedff-8a64-45b2-a82c-54f220166a12",
   "metadata": {
    "pagebreak_schema": "{\"cellsToScopes\":{\"c7ad8658-6343-4570-9bb6-594a3bca9bf8\":0,\"f5549241-a653-4e36-ac39-b1f877942069\":0,\"6011ad04-19fb-4cd3-8c59-1f79775216c2\":1,\"b53a64d3-180e-4ecf-9b5a-cd168c9cff5b\":1,\"4817584d-ccf3-495b-8695-15ad475ab56b\":1,\"885235c3-e063-4050-bac7-71c2a4e4a124\":2,\"bfd2ddd6-6eda-44aa-a391-de3694b4761f\":2,\"8d255261-a5e6-4a61-8926-89e358fbd145\":2,\"fd2fe05c-7739-47fa-a80e-643781be2b7f\":2,\"1c7bedff-8a64-45b2-a82c-54f220166a12\":2},\"scopeList\":{\"0\":[\"d\",\"f\"],\"1\":[\"g\",\"h\",\"\"]}}"
   },
   "outputs": [],
   "source": []
  }
 ],
 "metadata": {
  "kernelspec": {
   "display_name": "Python 3 (ipykernel)",
   "language": "python",
   "name": "python3"
  },
  "language_info": {
   "codemirror_mode": {
    "name": "ipython",
    "version": 3
   },
   "file_extension": ".py",
   "mimetype": "text/x-python",
   "name": "python",
   "nbconvert_exporter": "python",
   "pygments_lexer": "ipython3",
   "version": "3.12.2"
  }
 },
 "nbformat": 4,
 "nbformat_minor": 5
}
