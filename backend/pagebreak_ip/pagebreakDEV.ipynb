{
 "cells": [
  {
   "cell_type": "markdown",
   "id": "3c55631f-d245-45b7-b313-95bb5bd86b3a",
   "metadata": {
    "pagebreakheader": true
   },
   "source": [
    "# Pagebreak"
   ]
  },
  {
   "cell_type": "code",
   "execution_count": 4,
   "id": "de8177c4-a85f-4eae-8b26-ab5cb15a5923",
   "metadata": {
    "pagebreak_schema": "{\"cellsToScopes\":{\"de8177c4-a85f-4eae-8b26-ab5cb15a5923\":0,\"c7ad8658-6343-4570-9bb6-594a3bca9bf8\":0,\"bfd2ddd6-6eda-44aa-a391-de3694b4761f\":0,\"f5549241-a653-4e36-ac39-b1f877942069\":0,\"6011ad04-19fb-4cd3-8c59-1f79775216c2\":1,\"b53a64d3-180e-4ecf-9b5a-cd168c9cff5b\":1,\"7c6355f4-44ea-4c11-8ce8-4cf2567452d3\":1,\"4817584d-ccf3-495b-8695-15ad475ab56b\":1,\"4f49be85-3cf9-4ae4-b556-42993483c426\":2,\"885235c3-e063-4050-bac7-71c2a4e4a124\":2,\"fd2fe05c-7739-47fa-a80e-643781be2b7f\":3,\"1c7bedff-8a64-45b2-a82c-54f220166a12\":3,\"90f40335-8285-4bb9-8c30-12f2e302c372\":3},\"scopeList\":{\"0\":[\"d\",\"f\",\"nd\",\"g\"],\"1\":[\"g\",\"h\"],\"2\":[\"nd\",\"\"]}}"
   },
   "outputs": [],
   "source": [
    "import warnings\n",
    "warnings.filterwarnings('always')\n",
    "import sys\n",
    "#!conda install --yes --prefix {sys.prefix} pandas\n",
    "import pandas as pd\n",
    "import inspect "
   ]
  },
  {
   "cell_type": "code",
   "execution_count": 6,
   "id": "9f662aa2-bb7f-40f0-be0d-016b1d646f7a",
   "metadata": {},
   "outputs": [
    {
     "name": "stderr",
     "output_type": "stream",
     "text": [
      "/Users/erawn/pagebreaks/backend/pagebreak_ip/pagebreaks_ip.py:394: UserWarning: (Pagebreaks) Duplicate Exported Variables: 'c ,d', skipping later exports\n",
      "  warnings.warn(\n"
     ]
    }
   ],
   "source": [
    "d = {'col1': [1, 2], 'col2': [3, 4]}\n",
    "df = pd.DataFrame(d)"
   ]
  },
  {
   "cell_type": "code",
   "execution_count": 10,
   "id": "bfd2ddd6-6eda-44aa-a391-de3694b4761f",
   "metadata": {
    "pagebreak_schema": "{\"cellsToScopes\":{\"de8177c4-a85f-4eae-8b26-ab5cb15a5923\":0,\"c7ad8658-6343-4570-9bb6-594a3bca9bf8\":0,\"bfd2ddd6-6eda-44aa-a391-de3694b4761f\":0,\"f5549241-a653-4e36-ac39-b1f877942069\":0,\"6011ad04-19fb-4cd3-8c59-1f79775216c2\":1,\"b53a64d3-180e-4ecf-9b5a-cd168c9cff5b\":1,\"7c6355f4-44ea-4c11-8ce8-4cf2567452d3\":1,\"4817584d-ccf3-495b-8695-15ad475ab56b\":1,\"4f49be85-3cf9-4ae4-b556-42993483c426\":2,\"885235c3-e063-4050-bac7-71c2a4e4a124\":2,\"fd2fe05c-7739-47fa-a80e-643781be2b7f\":3,\"1c7bedff-8a64-45b2-a82c-54f220166a12\":3,\"90f40335-8285-4bb9-8c30-12f2e302c372\":3},\"scopeList\":{\"0\":[\"d\",\"f\",\"nd\",\"g\"],\"1\":[\"g\",\"h\"],\"2\":[\"nd\",\"\"]}}"
   },
   "outputs": [
    {
     "name": "stdout",
     "output_type": "stream",
     "text": [
      "3\n"
     ]
    }
   ],
   "source": [
    "class c:\n",
    "    b = 2\n",
    "myclass = c()\n",
    "c.a = 3\n",
    "myclass.a = 4\n",
    "print(c.a)"
   ]
  },
  {
   "cell_type": "raw",
   "id": "5d25324e-8a76-4126-82a0-5398dcde1281",
   "metadata": {
    "pagebreak": true
   },
   "source": [
    "export {  }"
   ]
  },
  {
   "cell_type": "raw",
   "id": "97e1717c-fa52-4c7f-a042-faae23d1a802",
   "metadata": {
    "pagebreak": true
   },
   "source": [
    "export { c d }"
   ]
  },
  {
   "cell_type": "code",
   "execution_count": 11,
   "id": "f5549241-a653-4e36-ac39-b1f877942069",
   "metadata": {
    "pagebreak_schema": "{\"cellsToScopes\":{\"de8177c4-a85f-4eae-8b26-ab5cb15a5923\":0,\"c7ad8658-6343-4570-9bb6-594a3bca9bf8\":0,\"bfd2ddd6-6eda-44aa-a391-de3694b4761f\":0,\"f5549241-a653-4e36-ac39-b1f877942069\":0,\"6011ad04-19fb-4cd3-8c59-1f79775216c2\":1,\"b53a64d3-180e-4ecf-9b5a-cd168c9cff5b\":1,\"7c6355f4-44ea-4c11-8ce8-4cf2567452d3\":1,\"4817584d-ccf3-495b-8695-15ad475ab56b\":1,\"4f49be85-3cf9-4ae4-b556-42993483c426\":2,\"885235c3-e063-4050-bac7-71c2a4e4a124\":2,\"fd2fe05c-7739-47fa-a80e-643781be2b7f\":3,\"1c7bedff-8a64-45b2-a82c-54f220166a12\":3,\"90f40335-8285-4bb9-8c30-12f2e302c372\":3},\"scopeList\":{\"0\":[\"d\",\"f\",\"nd\",\"g\"],\"1\":[\"g\",\"h\"],\"2\":[\"nd\",\"\"]}}"
   },
   "outputs": [
    {
     "name": "stdout",
     "output_type": "stream",
     "text": [
      "a = 2\n"
     ]
    }
   ],
   "source": [
    "a = 2\n",
    "def f():\n",
    "    b = 5\n",
    "    def g():\n",
    "        print(\"b =\",b)\n",
    "    print(\"a =\",a)\n",
    "    return g\n",
    "myfunc = f()"
   ]
  },
  {
   "cell_type": "raw",
   "id": "c9e4d047-ad38-4a6e-b397-283881532de4",
   "metadata": {
    "pagebreak": true
   },
   "source": [
    "export {  }"
   ]
  },
  {
   "cell_type": "markdown",
   "id": "0a635b51-180a-4725-99ec-add370894adc",
   "metadata": {
    "pagebreakheader": true
   },
   "source": [
    "# Pagebreak"
   ]
  },
  {
   "cell_type": "code",
   "execution_count": 15,
   "id": "50195fe7-571e-4be1-9472-bd57c6ec2a95",
   "metadata": {},
   "outputs": [
    {
     "data": {
      "text/plain": [
       "mappingproxy({'__module__': '__main__',\n",
       "              'b': 2,\n",
       "              '__dict__': <attribute '__dict__' of 'pb_0_c' objects>,\n",
       "              '__weakref__': <attribute '__weakref__' of 'pb_0_c' objects>,\n",
       "              '__doc__': None,\n",
       "              'a': 19,\n",
       "              '__slotnames__': []})"
      ]
     },
     "execution_count": 15,
     "metadata": {},
     "output_type": "execute_result"
    }
   ],
   "source": [
    "sf = 21\n",
    "sfd = 11\n",
    "c.__dict__"
   ]
  },
  {
   "cell_type": "raw",
   "id": "0bec9df6-60d7-4092-9c18-9b1eb8b38da4",
   "metadata": {
    "pagebreak": true
   },
   "source": [
    "export { myclass sfd f myfunc }"
   ]
  },
  {
   "cell_type": "code",
   "execution_count": 14,
   "id": "6011ad04-19fb-4cd3-8c59-1f79775216c2",
   "metadata": {
    "pagebreak_schema": "{\"cellsToScopes\":{\"de8177c4-a85f-4eae-8b26-ab5cb15a5923\":0,\"c7ad8658-6343-4570-9bb6-594a3bca9bf8\":0,\"bfd2ddd6-6eda-44aa-a391-de3694b4761f\":0,\"f5549241-a653-4e36-ac39-b1f877942069\":0,\"6011ad04-19fb-4cd3-8c59-1f79775216c2\":1,\"b53a64d3-180e-4ecf-9b5a-cd168c9cff5b\":1,\"7c6355f4-44ea-4c11-8ce8-4cf2567452d3\":1,\"4817584d-ccf3-495b-8695-15ad475ab56b\":1,\"4f49be85-3cf9-4ae4-b556-42993483c426\":2,\"885235c3-e063-4050-bac7-71c2a4e4a124\":2,\"fd2fe05c-7739-47fa-a80e-643781be2b7f\":3,\"1c7bedff-8a64-45b2-a82c-54f220166a12\":3,\"90f40335-8285-4bb9-8c30-12f2e302c372\":3},\"scopeList\":{\"0\":[\"d\",\"f\",\"nd\",\"g\"],\"1\":[\"g\",\"h\"],\"2\":[\"nd\",\"\"]}}"
   },
   "outputs": [
    {
     "data": {
      "text/plain": [
       "mappingproxy({'__module__': '__main__',\n",
       "              'b': 2,\n",
       "              '__dict__': <attribute '__dict__' of 'pb_0_c' objects>,\n",
       "              '__weakref__': <attribute '__weakref__' of 'pb_0_c' objects>,\n",
       "              '__doc__': None,\n",
       "              'a': 19,\n",
       "              '__slotnames__': []})"
      ]
     },
     "execution_count": 14,
     "metadata": {},
     "output_type": "execute_result"
    }
   ],
   "source": [
    "c.a = 19\n",
    "c.__dict__"
   ]
  },
  {
   "cell_type": "code",
   "execution_count": 5,
   "id": "5014290f-8f62-4692-91d1-267712663a5d",
   "metadata": {},
   "outputs": [
    {
     "name": "stdout",
     "output_type": "stream",
     "text": [
      "11\n"
     ]
    },
    {
     "ename": "PagebreakError",
     "evalue": "Attempted to Overwrite Read-Only Exported Variables: 'myclass'",
     "output_type": "error",
     "traceback": [
      "\u001b[0;36m  File \u001b[0;32m<string>\u001b[0;36m\u001b[0m\n\u001b[0;31mPagebreakError\u001b[0m\u001b[0;31m:\u001b[0m Attempted to Overwrite Read-Only Exported Variables: 'myclass'\n"
     ]
    }
   ],
   "source": [
    "myclass.a = 191\n",
    "dd=11\n",
    "myclass.a\n",
    "print(dd)"
   ]
  },
  {
   "cell_type": "code",
   "execution_count": 6,
   "id": "40608d2d-00fc-43f2-8651-bcae075a6ad8",
   "metadata": {},
   "outputs": [
    {
     "data": {
      "text/plain": [
       "10"
      ]
     },
     "execution_count": 6,
     "metadata": {},
     "output_type": "execute_result"
    }
   ],
   "source": [
    "dd"
   ]
  },
  {
   "cell_type": "code",
   "execution_count": 8,
   "id": "7c6355f4-44ea-4c11-8ce8-4cf2567452d3",
   "metadata": {
    "pagebreak_schema": "{\"cellsToScopes\":{\"de8177c4-a85f-4eae-8b26-ab5cb15a5923\":0,\"c7ad8658-6343-4570-9bb6-594a3bca9bf8\":0,\"bfd2ddd6-6eda-44aa-a391-de3694b4761f\":0,\"f5549241-a653-4e36-ac39-b1f877942069\":0,\"6011ad04-19fb-4cd3-8c59-1f79775216c2\":1,\"b53a64d3-180e-4ecf-9b5a-cd168c9cff5b\":1,\"7c6355f4-44ea-4c11-8ce8-4cf2567452d3\":1,\"4817584d-ccf3-495b-8695-15ad475ab56b\":1,\"4f49be85-3cf9-4ae4-b556-42993483c426\":2,\"885235c3-e063-4050-bac7-71c2a4e4a124\":2,\"fd2fe05c-7739-47fa-a80e-643781be2b7f\":3,\"1c7bedff-8a64-45b2-a82c-54f220166a12\":3,\"90f40335-8285-4bb9-8c30-12f2e302c372\":3},\"scopeList\":{\"0\":[\"d\",\"f\",\"nd\",\"g\"],\"1\":[\"g\",\"h\"],\"2\":[\"nd\",\"\"]}}"
   },
   "outputs": [
    {
     "data": {
      "text/plain": [
       "['pb_1_dd',\n",
       " 'pb_export_c',\n",
       " 'pb_export_f',\n",
       " 'pb_export_myclass',\n",
       " 'pb_export_myfunc',\n",
       " 'pb_export_sfd']"
      ]
     },
     "execution_count": 8,
     "metadata": {},
     "output_type": "execute_result"
    }
   ],
   "source": [
    "%who_ls"
   ]
  },
  {
   "cell_type": "code",
   "execution_count": null,
   "id": "4817584d-ccf3-495b-8695-15ad475ab56b",
   "metadata": {
    "pagebreak_schema": "{\"cellsToScopes\":{\"de8177c4-a85f-4eae-8b26-ab5cb15a5923\":0,\"c7ad8658-6343-4570-9bb6-594a3bca9bf8\":0,\"bfd2ddd6-6eda-44aa-a391-de3694b4761f\":0,\"f5549241-a653-4e36-ac39-b1f877942069\":0,\"6011ad04-19fb-4cd3-8c59-1f79775216c2\":1,\"b53a64d3-180e-4ecf-9b5a-cd168c9cff5b\":1,\"7c6355f4-44ea-4c11-8ce8-4cf2567452d3\":1,\"4817584d-ccf3-495b-8695-15ad475ab56b\":1,\"4f49be85-3cf9-4ae4-b556-42993483c426\":2,\"885235c3-e063-4050-bac7-71c2a4e4a124\":2,\"fd2fe05c-7739-47fa-a80e-643781be2b7f\":3,\"1c7bedff-8a64-45b2-a82c-54f220166a12\":3,\"90f40335-8285-4bb9-8c30-12f2e302c372\":3},\"scopeList\":{\"0\":[\"d\",\"f\",\"nd\",\"g\"],\"1\":[\"g\",\"h\"],\"2\":[\"nd\",\"\"]}}"
   },
   "outputs": [],
   "source": [
    "import inspect "
   ]
  },
  {
   "cell_type": "raw",
   "id": "f0775b4c-7724-404f-b89c-c17a15fe2f62",
   "metadata": {
    "pagebreak_schema": "{\"cellsToScopes\":{\"de8177c4-a85f-4eae-8b26-ab5cb15a5923\":0,\"c7ad8658-6343-4570-9bb6-594a3bca9bf8\":0,\"bfd2ddd6-6eda-44aa-a391-de3694b4761f\":0,\"f5549241-a653-4e36-ac39-b1f877942069\":0,\"6011ad04-19fb-4cd3-8c59-1f79775216c2\":1,\"b53a64d3-180e-4ecf-9b5a-cd168c9cff5b\":1,\"7c6355f4-44ea-4c11-8ce8-4cf2567452d3\":1,\"4817584d-ccf3-495b-8695-15ad475ab56b\":1,\"4f49be85-3cf9-4ae4-b556-42993483c426\":2,\"885235c3-e063-4050-bac7-71c2a4e4a124\":2,\"fd2fe05c-7739-47fa-a80e-643781be2b7f\":3,\"1c7bedff-8a64-45b2-a82c-54f220166a12\":3,\"90f40335-8285-4bb9-8c30-12f2e302c372\":3},\"scopeList\":{\"0\":[\"d\",\"f\",\"nd\",\"g\"],\"1\":[\"g\",\"h\"],\"2\":[\"nd\",\"\"]}}"
   },
   "source": [
    "pb h"
   ]
  },
  {
   "cell_type": "code",
   "execution_count": null,
   "id": "4f49be85-3cf9-4ae4-b556-42993483c426",
   "metadata": {
    "pagebreak_schema": "{\"cellsToScopes\":{\"de8177c4-a85f-4eae-8b26-ab5cb15a5923\":0,\"c7ad8658-6343-4570-9bb6-594a3bca9bf8\":0,\"bfd2ddd6-6eda-44aa-a391-de3694b4761f\":0,\"f5549241-a653-4e36-ac39-b1f877942069\":0,\"6011ad04-19fb-4cd3-8c59-1f79775216c2\":1,\"b53a64d3-180e-4ecf-9b5a-cd168c9cff5b\":1,\"7c6355f4-44ea-4c11-8ce8-4cf2567452d3\":1,\"4817584d-ccf3-495b-8695-15ad475ab56b\":1,\"4f49be85-3cf9-4ae4-b556-42993483c426\":2,\"885235c3-e063-4050-bac7-71c2a4e4a124\":2,\"fd2fe05c-7739-47fa-a80e-643781be2b7f\":3,\"1c7bedff-8a64-45b2-a82c-54f220166a12\":3,\"90f40335-8285-4bb9-8c30-12f2e302c372\":3},\"scopeList\":{\"0\":[\"d\",\"f\",\"nd\",\"g\"],\"1\":[\"g\",\"h\"],\"2\":[\"nd\",\"\"]}}"
   },
   "outputs": [],
   "source": []
  },
  {
   "cell_type": "code",
   "execution_count": null,
   "id": "885235c3-e063-4050-bac7-71c2a4e4a124",
   "metadata": {
    "pagebreak_schema": "{\"cellsToScopes\":{\"de8177c4-a85f-4eae-8b26-ab5cb15a5923\":0,\"c7ad8658-6343-4570-9bb6-594a3bca9bf8\":0,\"bfd2ddd6-6eda-44aa-a391-de3694b4761f\":0,\"f5549241-a653-4e36-ac39-b1f877942069\":0,\"6011ad04-19fb-4cd3-8c59-1f79775216c2\":1,\"b53a64d3-180e-4ecf-9b5a-cd168c9cff5b\":1,\"7c6355f4-44ea-4c11-8ce8-4cf2567452d3\":1,\"4817584d-ccf3-495b-8695-15ad475ab56b\":1,\"4f49be85-3cf9-4ae4-b556-42993483c426\":2,\"885235c3-e063-4050-bac7-71c2a4e4a124\":2,\"fd2fe05c-7739-47fa-a80e-643781be2b7f\":3,\"1c7bedff-8a64-45b2-a82c-54f220166a12\":3,\"90f40335-8285-4bb9-8c30-12f2e302c372\":3},\"scopeList\":{\"0\":[\"d\",\"f\",\"nd\",\"g\"],\"1\":[\"g\",\"h\"],\"2\":[\"nd\",\"\"]}}"
   },
   "outputs": [],
   "source": [
    "nd = 6"
   ]
  },
  {
   "cell_type": "raw",
   "id": "d7944a11-f030-465c-91e5-e3ebc0f527cf",
   "metadata": {
    "pagebreak_schema": "{\"cellsToScopes\":{\"de8177c4-a85f-4eae-8b26-ab5cb15a5923\":0,\"c7ad8658-6343-4570-9bb6-594a3bca9bf8\":0,\"bfd2ddd6-6eda-44aa-a391-de3694b4761f\":0,\"f5549241-a653-4e36-ac39-b1f877942069\":0,\"6011ad04-19fb-4cd3-8c59-1f79775216c2\":1,\"b53a64d3-180e-4ecf-9b5a-cd168c9cff5b\":1,\"7c6355f4-44ea-4c11-8ce8-4cf2567452d3\":1,\"4817584d-ccf3-495b-8695-15ad475ab56b\":1,\"4f49be85-3cf9-4ae4-b556-42993483c426\":2,\"885235c3-e063-4050-bac7-71c2a4e4a124\":2,\"fd2fe05c-7739-47fa-a80e-643781be2b7f\":3,\"1c7bedff-8a64-45b2-a82c-54f220166a12\":3,\"90f40335-8285-4bb9-8c30-12f2e302c372\":3},\"scopeList\":{\"0\":[\"d\",\"f\",\"nd\",\"g\"],\"1\":[\"g\",\"h\"],\"2\":[\"nd\",\"\"]}}"
   },
   "source": [
    "pb "
   ]
  },
  {
   "cell_type": "code",
   "execution_count": null,
   "id": "fd2fe05c-7739-47fa-a80e-643781be2b7f",
   "metadata": {
    "pagebreak_schema": "{\"cellsToScopes\":{\"de8177c4-a85f-4eae-8b26-ab5cb15a5923\":0,\"c7ad8658-6343-4570-9bb6-594a3bca9bf8\":0,\"bfd2ddd6-6eda-44aa-a391-de3694b4761f\":0,\"f5549241-a653-4e36-ac39-b1f877942069\":0,\"6011ad04-19fb-4cd3-8c59-1f79775216c2\":1,\"b53a64d3-180e-4ecf-9b5a-cd168c9cff5b\":1,\"7c6355f4-44ea-4c11-8ce8-4cf2567452d3\":1,\"4817584d-ccf3-495b-8695-15ad475ab56b\":1,\"4f49be85-3cf9-4ae4-b556-42993483c426\":2,\"885235c3-e063-4050-bac7-71c2a4e4a124\":2,\"fd2fe05c-7739-47fa-a80e-643781be2b7f\":3,\"1c7bedff-8a64-45b2-a82c-54f220166a12\":3,\"90f40335-8285-4bb9-8c30-12f2e302c372\":3},\"scopeList\":{\"0\":[\"d\",\"f\",\"nd\",\"g\"],\"1\":[\"g\",\"h\"],\"2\":[\"nd\",\"\"]}}"
   },
   "outputs": [],
   "source": [
    "print(nd)"
   ]
  },
  {
   "cell_type": "code",
   "execution_count": null,
   "id": "1c7bedff-8a64-45b2-a82c-54f220166a12",
   "metadata": {
    "pagebreak_schema": "{\"cellsToScopes\":{\"de8177c4-a85f-4eae-8b26-ab5cb15a5923\":0,\"c7ad8658-6343-4570-9bb6-594a3bca9bf8\":0,\"bfd2ddd6-6eda-44aa-a391-de3694b4761f\":0,\"f5549241-a653-4e36-ac39-b1f877942069\":0,\"6011ad04-19fb-4cd3-8c59-1f79775216c2\":1,\"b53a64d3-180e-4ecf-9b5a-cd168c9cff5b\":1,\"7c6355f4-44ea-4c11-8ce8-4cf2567452d3\":1,\"4817584d-ccf3-495b-8695-15ad475ab56b\":1,\"4f49be85-3cf9-4ae4-b556-42993483c426\":2,\"885235c3-e063-4050-bac7-71c2a4e4a124\":2,\"fd2fe05c-7739-47fa-a80e-643781be2b7f\":3,\"1c7bedff-8a64-45b2-a82c-54f220166a12\":3,\"90f40335-8285-4bb9-8c30-12f2e302c372\":3},\"scopeList\":{\"0\":[\"d\",\"f\",\"nd\",\"g\"],\"1\":[\"g\",\"h\"],\"2\":[\"nd\",\"\"]}}"
   },
   "outputs": [],
   "source": [
    "%who_ls"
   ]
  },
  {
   "cell_type": "raw",
   "id": "ea4ef689-297a-4350-9a77-b8ca8975cf79",
   "metadata": {
    "pagebreak_schema": "{\"cellsToScopes\":{\"de8177c4-a85f-4eae-8b26-ab5cb15a5923\":0,\"c7ad8658-6343-4570-9bb6-594a3bca9bf8\":0,\"bfd2ddd6-6eda-44aa-a391-de3694b4761f\":0,\"f5549241-a653-4e36-ac39-b1f877942069\":0,\"6011ad04-19fb-4cd3-8c59-1f79775216c2\":1,\"b53a64d3-180e-4ecf-9b5a-cd168c9cff5b\":1,\"7c6355f4-44ea-4c11-8ce8-4cf2567452d3\":1,\"4817584d-ccf3-495b-8695-15ad475ab56b\":1,\"4f49be85-3cf9-4ae4-b556-42993483c426\":2,\"885235c3-e063-4050-bac7-71c2a4e4a124\":2,\"fd2fe05c-7739-47fa-a80e-643781be2b7f\":3,\"1c7bedff-8a64-45b2-a82c-54f220166a12\":3,\"90f40335-8285-4bb9-8c30-12f2e302c372\":3},\"scopeList\":{\"0\":[\"d\",\"f\",\"nd\",\"g\"],\"1\":[\"g\",\"h\"],\"2\":[\"nd\",\"\"]}}"
   },
   "source": [
    "pb "
   ]
  },
  {
   "cell_type": "raw",
   "id": "b6796e6d-73c7-4707-afa4-b57045dad390",
   "metadata": {},
   "source": [
    " pb f => []"
   ]
  },
  {
   "cell_type": "code",
   "execution_count": null,
   "id": "7875ddba-cfaa-4b2f-9bf6-bf1b108bc4b1",
   "metadata": {},
   "outputs": [],
   "source": [
    "g = d + 1 "
   ]
  },
  {
   "cell_type": "raw",
   "id": "85e063a5-24cb-4abd-bdb7-d4e9dda2a447",
   "metadata": {},
   "source": [
    "pb "
   ]
  },
  {
   "cell_type": "code",
   "execution_count": null,
   "id": "59635ffc-7196-4005-b425-4c1a556f8303",
   "metadata": {},
   "outputs": [],
   "source": []
  }
 ],
 "metadata": {
  "kernelspec": {
   "display_name": "Python 3 (ipykernel)",
   "language": "python",
   "name": "python3"
  },
  "language_info": {
   "codemirror_mode": {
    "name": "ipython",
    "version": 3
   },
   "file_extension": ".py",
   "mimetype": "text/x-python",
   "name": "python",
   "nbconvert_exporter": "python",
   "pygments_lexer": "ipython3",
   "version": "3.12.2"
  }
 },
 "nbformat": 4,
 "nbformat_minor": 5
}
