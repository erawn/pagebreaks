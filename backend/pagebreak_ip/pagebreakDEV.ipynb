{
 "cells": [
  {
   "cell_type": "code",
   "execution_count": 3,
   "id": "de8177c4-a85f-4eae-8b26-ab5cb15a5923",
   "metadata": {
    "pagebreak_schema": "{\"cellsToScopes\":{\"de8177c4-a85f-4eae-8b26-ab5cb15a5923\":0,\"c7ad8658-6343-4570-9bb6-594a3bca9bf8\":0,\"bfd2ddd6-6eda-44aa-a391-de3694b4761f\":0,\"f5549241-a653-4e36-ac39-b1f877942069\":0,\"6011ad04-19fb-4cd3-8c59-1f79775216c2\":1,\"b53a64d3-180e-4ecf-9b5a-cd168c9cff5b\":1,\"7c6355f4-44ea-4c11-8ce8-4cf2567452d3\":1,\"4817584d-ccf3-495b-8695-15ad475ab56b\":1,\"4f49be85-3cf9-4ae4-b556-42993483c426\":2,\"885235c3-e063-4050-bac7-71c2a4e4a124\":2,\"fd2fe05c-7739-47fa-a80e-643781be2b7f\":3,\"1c7bedff-8a64-45b2-a82c-54f220166a12\":3,\"90f40335-8285-4bb9-8c30-12f2e302c372\":3},\"scopeList\":{\"0\":[\"d\",\"f\",\"nd\",\"g\"],\"1\":[\"g\",\"h\"],\"2\":[\"nd\",\"\"]}}"
   },
   "outputs": [],
   "source": [
    "import warnings\n",
    "warnings.filterwarnings('always')"
   ]
  },
  {
   "cell_type": "code",
   "execution_count": 7,
   "id": "c7ad8658-6343-4570-9bb6-594a3bca9bf8",
   "metadata": {
    "pagebreak_schema": "{\"cellsToScopes\":{\"de8177c4-a85f-4eae-8b26-ab5cb15a5923\":0,\"c7ad8658-6343-4570-9bb6-594a3bca9bf8\":0,\"bfd2ddd6-6eda-44aa-a391-de3694b4761f\":0,\"f5549241-a653-4e36-ac39-b1f877942069\":0,\"6011ad04-19fb-4cd3-8c59-1f79775216c2\":1,\"b53a64d3-180e-4ecf-9b5a-cd168c9cff5b\":1,\"7c6355f4-44ea-4c11-8ce8-4cf2567452d3\":1,\"4817584d-ccf3-495b-8695-15ad475ab56b\":1,\"4f49be85-3cf9-4ae4-b556-42993483c426\":2,\"885235c3-e063-4050-bac7-71c2a4e4a124\":2,\"fd2fe05c-7739-47fa-a80e-643781be2b7f\":3,\"1c7bedff-8a64-45b2-a82c-54f220166a12\":3,\"90f40335-8285-4bb9-8c30-12f2e302c372\":3},\"scopeList\":{\"0\":[\"d\",\"f\",\"nd\",\"g\"],\"1\":[\"g\",\"h\"],\"2\":[\"nd\",\"\"]}}"
   },
   "outputs": [
    {
     "name": "stdout",
     "output_type": "stream",
     "text": [
      "2\n"
     ]
    }
   ],
   "source": [
    "x = 2\n",
    "print(x)"
   ]
  },
  {
   "cell_type": "code",
   "execution_count": 13,
   "id": "bfd2ddd6-6eda-44aa-a391-de3694b4761f",
   "metadata": {
    "pagebreak_schema": "{\"cellsToScopes\":{\"de8177c4-a85f-4eae-8b26-ab5cb15a5923\":0,\"c7ad8658-6343-4570-9bb6-594a3bca9bf8\":0,\"bfd2ddd6-6eda-44aa-a391-de3694b4761f\":0,\"f5549241-a653-4e36-ac39-b1f877942069\":0,\"6011ad04-19fb-4cd3-8c59-1f79775216c2\":1,\"b53a64d3-180e-4ecf-9b5a-cd168c9cff5b\":1,\"7c6355f4-44ea-4c11-8ce8-4cf2567452d3\":1,\"4817584d-ccf3-495b-8695-15ad475ab56b\":1,\"4f49be85-3cf9-4ae4-b556-42993483c426\":2,\"885235c3-e063-4050-bac7-71c2a4e4a124\":2,\"fd2fe05c-7739-47fa-a80e-643781be2b7f\":3,\"1c7bedff-8a64-45b2-a82c-54f220166a12\":3,\"90f40335-8285-4bb9-8c30-12f2e302c372\":3},\"scopeList\":{\"0\":[\"d\",\"f\",\"nd\",\"g\"],\"1\":[\"g\",\"h\"],\"2\":[\"nd\",\"\"]}}"
   },
   "outputs": [],
   "source": []
  },
  {
   "cell_type": "code",
   "execution_count": null,
   "id": "1c35e1bf-916d-46ce-8d30-c014013849b7",
   "metadata": {},
   "outputs": [],
   "source": []
  },
  {
   "cell_type": "code",
   "execution_count": null,
   "id": "298a20cd-4ce3-4513-a394-d093b6fe82d9",
   "metadata": {},
   "outputs": [],
   "source": []
  },
  {
   "cell_type": "code",
   "execution_count": 20,
   "id": "f5549241-a653-4e36-ac39-b1f877942069",
   "metadata": {
    "pagebreak_schema": "{\"cellsToScopes\":{\"de8177c4-a85f-4eae-8b26-ab5cb15a5923\":0,\"c7ad8658-6343-4570-9bb6-594a3bca9bf8\":0,\"bfd2ddd6-6eda-44aa-a391-de3694b4761f\":0,\"f5549241-a653-4e36-ac39-b1f877942069\":0,\"6011ad04-19fb-4cd3-8c59-1f79775216c2\":1,\"b53a64d3-180e-4ecf-9b5a-cd168c9cff5b\":1,\"7c6355f4-44ea-4c11-8ce8-4cf2567452d3\":1,\"4817584d-ccf3-495b-8695-15ad475ab56b\":1,\"4f49be85-3cf9-4ae4-b556-42993483c426\":2,\"885235c3-e063-4050-bac7-71c2a4e4a124\":2,\"fd2fe05c-7739-47fa-a80e-643781be2b7f\":3,\"1c7bedff-8a64-45b2-a82c-54f220166a12\":3,\"90f40335-8285-4bb9-8c30-12f2e302c372\":3},\"scopeList\":{\"0\":[\"d\",\"f\",\"nd\",\"g\"],\"1\":[\"g\",\"h\"],\"2\":[\"nd\",\"\"]}}",
    "scrolled": true
   },
   "outputs": [],
   "source": [
    "a = 2\n",
    "def f():\n",
    "    b = 5\n",
    "    def g():\n",
    "        print(\"b =\",b)\n",
    "    print(\"a =\",a)\n",
    "    return g"
   ]
  },
  {
   "cell_type": "raw",
   "id": "f52ffe16-4c16-424c-85a2-dbe388a820c7",
   "metadata": {
    "pagebreak_schema": "{\"cellsToScopes\":{\"de8177c4-a85f-4eae-8b26-ab5cb15a5923\":0,\"c7ad8658-6343-4570-9bb6-594a3bca9bf8\":0,\"bfd2ddd6-6eda-44aa-a391-de3694b4761f\":0,\"f5549241-a653-4e36-ac39-b1f877942069\":0,\"6011ad04-19fb-4cd3-8c59-1f79775216c2\":1,\"b53a64d3-180e-4ecf-9b5a-cd168c9cff5b\":1,\"7c6355f4-44ea-4c11-8ce8-4cf2567452d3\":1,\"4817584d-ccf3-495b-8695-15ad475ab56b\":1,\"4f49be85-3cf9-4ae4-b556-42993483c426\":2,\"885235c3-e063-4050-bac7-71c2a4e4a124\":2,\"fd2fe05c-7739-47fa-a80e-643781be2b7f\":3,\"1c7bedff-8a64-45b2-a82c-54f220166a12\":3,\"90f40335-8285-4bb9-8c30-12f2e302c372\":3},\"scopeList\":{\"0\":[\"d\",\"f\",\"nd\",\"g\"],\"1\":[\"g\",\"h\"],\"2\":[\"nd\",\"\"]}}",
    "scrolled": true
   },
   "source": [
    "pb d f nd g"
   ]
  },
  {
   "cell_type": "code",
   "execution_count": 21,
   "id": "6011ad04-19fb-4cd3-8c59-1f79775216c2",
   "metadata": {
    "pagebreak_schema": "{\"cellsToScopes\":{\"de8177c4-a85f-4eae-8b26-ab5cb15a5923\":0,\"c7ad8658-6343-4570-9bb6-594a3bca9bf8\":0,\"bfd2ddd6-6eda-44aa-a391-de3694b4761f\":0,\"f5549241-a653-4e36-ac39-b1f877942069\":0,\"6011ad04-19fb-4cd3-8c59-1f79775216c2\":1,\"b53a64d3-180e-4ecf-9b5a-cd168c9cff5b\":1,\"7c6355f4-44ea-4c11-8ce8-4cf2567452d3\":1,\"4817584d-ccf3-495b-8695-15ad475ab56b\":1,\"4f49be85-3cf9-4ae4-b556-42993483c426\":2,\"885235c3-e063-4050-bac7-71c2a4e4a124\":2,\"fd2fe05c-7739-47fa-a80e-643781be2b7f\":3,\"1c7bedff-8a64-45b2-a82c-54f220166a12\":3,\"90f40335-8285-4bb9-8c30-12f2e302c372\":3},\"scopeList\":{\"0\":[\"d\",\"f\",\"nd\",\"g\"],\"1\":[\"g\",\"h\"],\"2\":[\"nd\",\"\"]}}"
   },
   "outputs": [
    {
     "name": "stdout",
     "output_type": "stream",
     "text": [
      "a = 2\n",
      "b = 5\n"
     ]
    }
   ],
   "source": [
    "f()()"
   ]
  },
  {
   "cell_type": "code",
   "execution_count": 11,
   "id": "7c6355f4-44ea-4c11-8ce8-4cf2567452d3",
   "metadata": {
    "pagebreak_schema": "{\"cellsToScopes\":{\"de8177c4-a85f-4eae-8b26-ab5cb15a5923\":0,\"c7ad8658-6343-4570-9bb6-594a3bca9bf8\":0,\"bfd2ddd6-6eda-44aa-a391-de3694b4761f\":0,\"f5549241-a653-4e36-ac39-b1f877942069\":0,\"6011ad04-19fb-4cd3-8c59-1f79775216c2\":1,\"b53a64d3-180e-4ecf-9b5a-cd168c9cff5b\":1,\"7c6355f4-44ea-4c11-8ce8-4cf2567452d3\":1,\"4817584d-ccf3-495b-8695-15ad475ab56b\":1,\"4f49be85-3cf9-4ae4-b556-42993483c426\":2,\"885235c3-e063-4050-bac7-71c2a4e4a124\":2,\"fd2fe05c-7739-47fa-a80e-643781be2b7f\":3,\"1c7bedff-8a64-45b2-a82c-54f220166a12\":3,\"90f40335-8285-4bb9-8c30-12f2e302c372\":3},\"scopeList\":{\"0\":[\"d\",\"f\",\"nd\",\"g\"],\"1\":[\"g\",\"h\"],\"2\":[\"nd\",\"\"]}}"
   },
   "outputs": [
    {
     "data": {
      "text/plain": [
       "[12]"
      ]
     },
     "execution_count": 11,
     "metadata": {},
     "output_type": "execute_result"
    }
   ],
   "source": [
    "pb_0_d"
   ]
  },
  {
   "cell_type": "code",
   "execution_count": 12,
   "id": "4817584d-ccf3-495b-8695-15ad475ab56b",
   "metadata": {
    "pagebreak_schema": "{\"cellsToScopes\":{\"de8177c4-a85f-4eae-8b26-ab5cb15a5923\":0,\"c7ad8658-6343-4570-9bb6-594a3bca9bf8\":0,\"bfd2ddd6-6eda-44aa-a391-de3694b4761f\":0,\"f5549241-a653-4e36-ac39-b1f877942069\":0,\"6011ad04-19fb-4cd3-8c59-1f79775216c2\":1,\"b53a64d3-180e-4ecf-9b5a-cd168c9cff5b\":1,\"7c6355f4-44ea-4c11-8ce8-4cf2567452d3\":1,\"4817584d-ccf3-495b-8695-15ad475ab56b\":1,\"4f49be85-3cf9-4ae4-b556-42993483c426\":2,\"885235c3-e063-4050-bac7-71c2a4e4a124\":2,\"fd2fe05c-7739-47fa-a80e-643781be2b7f\":3,\"1c7bedff-8a64-45b2-a82c-54f220166a12\":3,\"90f40335-8285-4bb9-8c30-12f2e302c372\":3},\"scopeList\":{\"0\":[\"d\",\"f\",\"nd\",\"g\"],\"1\":[\"g\",\"h\"],\"2\":[\"nd\",\"\"]}}"
   },
   "outputs": [
    {
     "ename": "NameError",
     "evalue": "name 'a' is not defined",
     "output_type": "error",
     "traceback": [
      "\u001b[0;31m---------------------------------------------------------------------------\u001b[0m",
      "\u001b[0;31mNameError\u001b[0m                                 Traceback (most recent call last)",
      "Cell \u001b[0;32mIn[12], line 1\u001b[0m\n\u001b[0;32m----> 1\u001b[0m \u001b[38;5;28mprint\u001b[39m(\u001b[43ma\u001b[49m)\n",
      "\u001b[0;31mNameError\u001b[0m: name 'a' is not defined"
     ]
    }
   ],
   "source": [
    "print(a)"
   ]
  },
  {
   "cell_type": "raw",
   "id": "f0775b4c-7724-404f-b89c-c17a15fe2f62",
   "metadata": {
    "pagebreak_schema": "{\"cellsToScopes\":{\"de8177c4-a85f-4eae-8b26-ab5cb15a5923\":0,\"c7ad8658-6343-4570-9bb6-594a3bca9bf8\":0,\"bfd2ddd6-6eda-44aa-a391-de3694b4761f\":0,\"f5549241-a653-4e36-ac39-b1f877942069\":0,\"6011ad04-19fb-4cd3-8c59-1f79775216c2\":1,\"b53a64d3-180e-4ecf-9b5a-cd168c9cff5b\":1,\"7c6355f4-44ea-4c11-8ce8-4cf2567452d3\":1,\"4817584d-ccf3-495b-8695-15ad475ab56b\":1,\"4f49be85-3cf9-4ae4-b556-42993483c426\":2,\"885235c3-e063-4050-bac7-71c2a4e4a124\":2,\"fd2fe05c-7739-47fa-a80e-643781be2b7f\":3,\"1c7bedff-8a64-45b2-a82c-54f220166a12\":3,\"90f40335-8285-4bb9-8c30-12f2e302c372\":3},\"scopeList\":{\"0\":[\"d\",\"f\",\"nd\",\"g\"],\"1\":[\"g\",\"h\"],\"2\":[\"nd\",\"\"]}}"
   },
   "source": [
    "pb h"
   ]
  },
  {
   "cell_type": "code",
   "execution_count": null,
   "id": "4f49be85-3cf9-4ae4-b556-42993483c426",
   "metadata": {
    "pagebreak_schema": "{\"cellsToScopes\":{\"de8177c4-a85f-4eae-8b26-ab5cb15a5923\":0,\"c7ad8658-6343-4570-9bb6-594a3bca9bf8\":0,\"bfd2ddd6-6eda-44aa-a391-de3694b4761f\":0,\"f5549241-a653-4e36-ac39-b1f877942069\":0,\"6011ad04-19fb-4cd3-8c59-1f79775216c2\":1,\"b53a64d3-180e-4ecf-9b5a-cd168c9cff5b\":1,\"7c6355f4-44ea-4c11-8ce8-4cf2567452d3\":1,\"4817584d-ccf3-495b-8695-15ad475ab56b\":1,\"4f49be85-3cf9-4ae4-b556-42993483c426\":2,\"885235c3-e063-4050-bac7-71c2a4e4a124\":2,\"fd2fe05c-7739-47fa-a80e-643781be2b7f\":3,\"1c7bedff-8a64-45b2-a82c-54f220166a12\":3,\"90f40335-8285-4bb9-8c30-12f2e302c372\":3},\"scopeList\":{\"0\":[\"d\",\"f\",\"nd\",\"g\"],\"1\":[\"g\",\"h\"],\"2\":[\"nd\",\"\"]}}"
   },
   "outputs": [],
   "source": []
  },
  {
   "cell_type": "code",
   "execution_count": null,
   "id": "885235c3-e063-4050-bac7-71c2a4e4a124",
   "metadata": {
    "pagebreak_schema": "{\"cellsToScopes\":{\"de8177c4-a85f-4eae-8b26-ab5cb15a5923\":0,\"c7ad8658-6343-4570-9bb6-594a3bca9bf8\":0,\"bfd2ddd6-6eda-44aa-a391-de3694b4761f\":0,\"f5549241-a653-4e36-ac39-b1f877942069\":0,\"6011ad04-19fb-4cd3-8c59-1f79775216c2\":1,\"b53a64d3-180e-4ecf-9b5a-cd168c9cff5b\":1,\"7c6355f4-44ea-4c11-8ce8-4cf2567452d3\":1,\"4817584d-ccf3-495b-8695-15ad475ab56b\":1,\"4f49be85-3cf9-4ae4-b556-42993483c426\":2,\"885235c3-e063-4050-bac7-71c2a4e4a124\":2,\"fd2fe05c-7739-47fa-a80e-643781be2b7f\":3,\"1c7bedff-8a64-45b2-a82c-54f220166a12\":3,\"90f40335-8285-4bb9-8c30-12f2e302c372\":3},\"scopeList\":{\"0\":[\"d\",\"f\",\"nd\",\"g\"],\"1\":[\"g\",\"h\"],\"2\":[\"nd\",\"\"]}}"
   },
   "outputs": [],
   "source": [
    "nd = 6"
   ]
  },
  {
   "cell_type": "raw",
   "id": "d7944a11-f030-465c-91e5-e3ebc0f527cf",
   "metadata": {
    "pagebreak_schema": "{\"cellsToScopes\":{\"de8177c4-a85f-4eae-8b26-ab5cb15a5923\":0,\"c7ad8658-6343-4570-9bb6-594a3bca9bf8\":0,\"bfd2ddd6-6eda-44aa-a391-de3694b4761f\":0,\"f5549241-a653-4e36-ac39-b1f877942069\":0,\"6011ad04-19fb-4cd3-8c59-1f79775216c2\":1,\"b53a64d3-180e-4ecf-9b5a-cd168c9cff5b\":1,\"7c6355f4-44ea-4c11-8ce8-4cf2567452d3\":1,\"4817584d-ccf3-495b-8695-15ad475ab56b\":1,\"4f49be85-3cf9-4ae4-b556-42993483c426\":2,\"885235c3-e063-4050-bac7-71c2a4e4a124\":2,\"fd2fe05c-7739-47fa-a80e-643781be2b7f\":3,\"1c7bedff-8a64-45b2-a82c-54f220166a12\":3,\"90f40335-8285-4bb9-8c30-12f2e302c372\":3},\"scopeList\":{\"0\":[\"d\",\"f\",\"nd\",\"g\"],\"1\":[\"g\",\"h\"],\"2\":[\"nd\",\"\"]}}"
   },
   "source": [
    "pb "
   ]
  },
  {
   "cell_type": "code",
   "execution_count": null,
   "id": "fd2fe05c-7739-47fa-a80e-643781be2b7f",
   "metadata": {
    "pagebreak_schema": "{\"cellsToScopes\":{\"de8177c4-a85f-4eae-8b26-ab5cb15a5923\":0,\"c7ad8658-6343-4570-9bb6-594a3bca9bf8\":0,\"bfd2ddd6-6eda-44aa-a391-de3694b4761f\":0,\"f5549241-a653-4e36-ac39-b1f877942069\":0,\"6011ad04-19fb-4cd3-8c59-1f79775216c2\":1,\"b53a64d3-180e-4ecf-9b5a-cd168c9cff5b\":1,\"7c6355f4-44ea-4c11-8ce8-4cf2567452d3\":1,\"4817584d-ccf3-495b-8695-15ad475ab56b\":1,\"4f49be85-3cf9-4ae4-b556-42993483c426\":2,\"885235c3-e063-4050-bac7-71c2a4e4a124\":2,\"fd2fe05c-7739-47fa-a80e-643781be2b7f\":3,\"1c7bedff-8a64-45b2-a82c-54f220166a12\":3,\"90f40335-8285-4bb9-8c30-12f2e302c372\":3},\"scopeList\":{\"0\":[\"d\",\"f\",\"nd\",\"g\"],\"1\":[\"g\",\"h\"],\"2\":[\"nd\",\"\"]}}"
   },
   "outputs": [],
   "source": [
    "print(nd)"
   ]
  },
  {
   "cell_type": "code",
   "execution_count": null,
   "id": "1c7bedff-8a64-45b2-a82c-54f220166a12",
   "metadata": {
    "pagebreak_schema": "{\"cellsToScopes\":{\"de8177c4-a85f-4eae-8b26-ab5cb15a5923\":0,\"c7ad8658-6343-4570-9bb6-594a3bca9bf8\":0,\"bfd2ddd6-6eda-44aa-a391-de3694b4761f\":0,\"f5549241-a653-4e36-ac39-b1f877942069\":0,\"6011ad04-19fb-4cd3-8c59-1f79775216c2\":1,\"b53a64d3-180e-4ecf-9b5a-cd168c9cff5b\":1,\"7c6355f4-44ea-4c11-8ce8-4cf2567452d3\":1,\"4817584d-ccf3-495b-8695-15ad475ab56b\":1,\"4f49be85-3cf9-4ae4-b556-42993483c426\":2,\"885235c3-e063-4050-bac7-71c2a4e4a124\":2,\"fd2fe05c-7739-47fa-a80e-643781be2b7f\":3,\"1c7bedff-8a64-45b2-a82c-54f220166a12\":3,\"90f40335-8285-4bb9-8c30-12f2e302c372\":3},\"scopeList\":{\"0\":[\"d\",\"f\",\"nd\",\"g\"],\"1\":[\"g\",\"h\"],\"2\":[\"nd\",\"\"]}}"
   },
   "outputs": [],
   "source": [
    "%who_ls"
   ]
  },
  {
   "cell_type": "raw",
   "id": "ea4ef689-297a-4350-9a77-b8ca8975cf79",
   "metadata": {
    "pagebreak_schema": "{\"cellsToScopes\":{\"de8177c4-a85f-4eae-8b26-ab5cb15a5923\":0,\"c7ad8658-6343-4570-9bb6-594a3bca9bf8\":0,\"bfd2ddd6-6eda-44aa-a391-de3694b4761f\":0,\"f5549241-a653-4e36-ac39-b1f877942069\":0,\"6011ad04-19fb-4cd3-8c59-1f79775216c2\":1,\"b53a64d3-180e-4ecf-9b5a-cd168c9cff5b\":1,\"7c6355f4-44ea-4c11-8ce8-4cf2567452d3\":1,\"4817584d-ccf3-495b-8695-15ad475ab56b\":1,\"4f49be85-3cf9-4ae4-b556-42993483c426\":2,\"885235c3-e063-4050-bac7-71c2a4e4a124\":2,\"fd2fe05c-7739-47fa-a80e-643781be2b7f\":3,\"1c7bedff-8a64-45b2-a82c-54f220166a12\":3,\"90f40335-8285-4bb9-8c30-12f2e302c372\":3},\"scopeList\":{\"0\":[\"d\",\"f\",\"nd\",\"g\"],\"1\":[\"g\",\"h\"],\"2\":[\"nd\",\"\"]}}"
   },
   "source": [
    "pb "
   ]
  },
  {
   "cell_type": "raw",
   "id": "b6796e6d-73c7-4707-afa4-b57045dad390",
   "metadata": {},
   "source": [
    " pb f => []"
   ]
  },
  {
   "cell_type": "code",
   "execution_count": null,
   "id": "7875ddba-cfaa-4b2f-9bf6-bf1b108bc4b1",
   "metadata": {},
   "outputs": [],
   "source": [
    "g = d + 1 "
   ]
  },
  {
   "cell_type": "raw",
   "id": "85e063a5-24cb-4abd-bdb7-d4e9dda2a447",
   "metadata": {},
   "source": [
    "pb "
   ]
  },
  {
   "cell_type": "code",
   "execution_count": null,
   "id": "59635ffc-7196-4005-b425-4c1a556f8303",
   "metadata": {},
   "outputs": [],
   "source": []
  }
 ],
 "metadata": {
  "kernelspec": {
   "display_name": "Python 3 (ipykernel)",
   "language": "python",
   "name": "python3"
  },
  "language_info": {
   "codemirror_mode": {
    "name": "ipython",
    "version": 3
   },
   "file_extension": ".py",
   "mimetype": "text/x-python",
   "name": "python",
   "nbconvert_exporter": "python",
   "pygments_lexer": "ipython3",
   "version": "3.12.2"
  }
 },
 "nbformat": 4,
 "nbformat_minor": 5
}
