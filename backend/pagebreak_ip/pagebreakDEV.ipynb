{
 "cells": [
  {
   "cell_type": "markdown",
   "id": "3c55631f-d245-45b7-b313-95bb5bd86b3a",
   "metadata": {
    "pagebreakheader": true
   },
   "source": [
    "# Pagebreak"
   ]
  },
  {
   "cell_type": "code",
   "execution_count": 2,
   "id": "9f662aa2-bb7f-40f0-be0d-016b1d646f7a",
   "metadata": {},
   "outputs": [],
   "source": [
    "d = {'col1': [1, 2], 'col2': [3, 4]}\n",
    "df = pd.DataFrame(d)"
   ]
  },
  {
   "cell_type": "code",
   "execution_count": 3,
   "id": "bfd2ddd6-6eda-44aa-a391-de3694b4761f",
   "metadata": {
    "pagebreak_schema": "{\"cellsToScopes\":{\"de8177c4-a85f-4eae-8b26-ab5cb15a5923\":0,\"c7ad8658-6343-4570-9bb6-594a3bca9bf8\":0,\"bfd2ddd6-6eda-44aa-a391-de3694b4761f\":0,\"f5549241-a653-4e36-ac39-b1f877942069\":0,\"6011ad04-19fb-4cd3-8c59-1f79775216c2\":1,\"b53a64d3-180e-4ecf-9b5a-cd168c9cff5b\":1,\"7c6355f4-44ea-4c11-8ce8-4cf2567452d3\":1,\"4817584d-ccf3-495b-8695-15ad475ab56b\":1,\"4f49be85-3cf9-4ae4-b556-42993483c426\":2,\"885235c3-e063-4050-bac7-71c2a4e4a124\":2,\"fd2fe05c-7739-47fa-a80e-643781be2b7f\":3,\"1c7bedff-8a64-45b2-a82c-54f220166a12\":3,\"90f40335-8285-4bb9-8c30-12f2e302c372\":3},\"scopeList\":{\"0\":[\"d\",\"f\",\"nd\",\"g\"],\"1\":[\"g\",\"h\"],\"2\":[\"nd\",\"\"]}}"
   },
   "outputs": [
    {
     "name": "stdout",
     "output_type": "stream",
     "text": [
      "3\n"
     ]
    }
   ],
   "source": [
    "class c:\n",
    "    b = 2\n",
    "myclass = c()\n",
    "c.a = 3\n",
    "myclass.a = 4\n",
    "print(c.a)"
   ]
  },
  {
   "cell_type": "code",
   "execution_count": 2,
   "id": "f5549241-a653-4e36-ac39-b1f877942069",
   "metadata": {
    "pagebreak_schema": "{\"cellsToScopes\":{\"de8177c4-a85f-4eae-8b26-ab5cb15a5923\":0,\"c7ad8658-6343-4570-9bb6-594a3bca9bf8\":0,\"bfd2ddd6-6eda-44aa-a391-de3694b4761f\":0,\"f5549241-a653-4e36-ac39-b1f877942069\":0,\"6011ad04-19fb-4cd3-8c59-1f79775216c2\":1,\"b53a64d3-180e-4ecf-9b5a-cd168c9cff5b\":1,\"7c6355f4-44ea-4c11-8ce8-4cf2567452d3\":1,\"4817584d-ccf3-495b-8695-15ad475ab56b\":1,\"4f49be85-3cf9-4ae4-b556-42993483c426\":2,\"885235c3-e063-4050-bac7-71c2a4e4a124\":2,\"fd2fe05c-7739-47fa-a80e-643781be2b7f\":3,\"1c7bedff-8a64-45b2-a82c-54f220166a12\":3,\"90f40335-8285-4bb9-8c30-12f2e302c372\":3},\"scopeList\":{\"0\":[\"d\",\"f\",\"nd\",\"g\"],\"1\":[\"g\",\"h\"],\"2\":[\"nd\",\"\"]}}",
    "scrolled": true
   },
   "outputs": [
    {
     "name": "stdout",
     "output_type": "stream",
     "text": [
      "scopelist {0: {'a'}, 1: {'sf'}, 2: set()}\n",
      "cleanedscopeLIst {0: {'a'}, 1: {'sf'}}\n",
      "a = 2\n"
     ]
    }
   ],
   "source": [
    "a = 2\n",
    "def f():\n",
    "    b = 5\n",
    "    def g():\n",
    "        print(\"b =\",b)\n",
    "    print(\"a =\",a)\n",
    "    return g\n",
    "myfunc = f()"
   ]
  },
  {
   "cell_type": "raw",
   "id": "5d25324e-8a76-4126-82a0-5398dcde1281",
   "metadata": {
    "pagebreak": true
   },
   "source": [
    "export { a }"
   ]
  },
  {
   "cell_type": "markdown",
   "id": "0a635b51-180a-4725-99ec-add370894adc",
   "metadata": {
    "pagebreakheader": true
   },
   "source": [
    "# Pagebreak"
   ]
  },
  {
   "cell_type": "code",
   "execution_count": 3,
   "id": "e56d297b-615e-4e02-af9f-4d875b05697e",
   "metadata": {},
   "outputs": [
    {
     "name": "stdout",
     "output_type": "stream",
     "text": [
      "scopelist {0: {'a'}, 1: {'sf'}, 2: set()}\n",
      "cleanedscopeLIst {1: {'sf'}}\n"
     ]
    },
    {
     "data": {
      "text/plain": [
       "['pb_0_a', 'pb_0_f', 'pb_0_myfunc']"
      ]
     },
     "execution_count": 3,
     "metadata": {},
     "output_type": "execute_result"
    }
   ],
   "source": [
    "%who_ls\n"
   ]
  },
  {
   "cell_type": "code",
   "execution_count": 4,
   "id": "a1b509ea-d53c-493c-ad25-f6ace94d8b96",
   "metadata": {},
   "outputs": [
    {
     "name": "stdout",
     "output_type": "stream",
     "text": [
      "scopelist {0: {'a'}, 1: {'sf'}, 2: set()}\n",
      "cleanedscopeLIst {1: {'sf'}}\n"
     ]
    },
    {
     "ename": "NameError",
     "evalue": "name 'a' is not defined",
     "output_type": "error",
     "traceback": [
      "\u001b[0;31m---------------------------------------------------------------------------\u001b[0m",
      "\u001b[0;31mNameError\u001b[0m                                 Traceback (most recent call last)",
      "Cell \u001b[0;32mIn[4], line 1\u001b[0m\n\u001b[0;32m----> 1\u001b[0m \u001b[43ma\u001b[49m\n",
      "\u001b[0;31mNameError\u001b[0m: name 'a' is not defined"
     ]
    }
   ],
   "source": [
    "a"
   ]
  },
  {
   "cell_type": "code",
   "execution_count": 13,
   "id": "50195fe7-571e-4be1-9472-bd57c6ec2a95",
   "metadata": {},
   "outputs": [
    {
     "ename": "NameError",
     "evalue": "name 'c' is not defined",
     "output_type": "error",
     "traceback": [
      "\u001b[0;31m---------------------------------------------------------------------------\u001b[0m",
      "\u001b[0;31mNameError\u001b[0m                                 Traceback (most recent call last)",
      "Cell \u001b[0;32mIn[13], line 3\u001b[0m\n\u001b[1;32m      1\u001b[0m sf \u001b[38;5;241m=\u001b[39m \u001b[38;5;241m21\u001b[39m\n\u001b[1;32m      2\u001b[0m sfd \u001b[38;5;241m=\u001b[39m \u001b[38;5;241m11\u001b[39m\n\u001b[0;32m----> 3\u001b[0m \u001b[43mc\u001b[49m\u001b[38;5;241m.\u001b[39m\u001b[38;5;18m__dict__\u001b[39m\n",
      "\u001b[0;31mNameError\u001b[0m: name 'c' is not defined"
     ]
    }
   ],
   "source": [
    "sf = 21\n",
    "sfd = 11\n",
    "c.__dict__"
   ]
  },
  {
   "cell_type": "code",
   "execution_count": null,
   "id": "59635ffc-7196-4005-b425-4c1a556f8303",
   "metadata": {},
   "outputs": [],
   "source": []
  },
  {
   "cell_type": "raw",
   "id": "0bec9df6-60d7-4092-9c18-9b1eb8b38da4",
   "metadata": {
    "pagebreak": true
   },
   "source": [
    "export { sf }"
   ]
  },
  {
   "cell_type": "markdown",
   "id": "2b122fc1-6640-483e-b547-512bcae92706",
   "metadata": {
    "pagebreakheader": true
   },
   "source": [
    "# New Pagebreak "
   ]
  },
  {
   "cell_type": "code",
   "execution_count": 15,
   "id": "eb6b5854-38d7-47e3-b43d-31e68d009986",
   "metadata": {},
   "outputs": [
    {
     "data": {
      "text/plain": [
       "['pb_1_sf', 'pb_1_sfd']"
      ]
     },
     "execution_count": 15,
     "metadata": {},
     "output_type": "execute_result"
    }
   ],
   "source": [
    "%who_ls"
   ]
  },
  {
   "cell_type": "code",
   "execution_count": 14,
   "id": "6011ad04-19fb-4cd3-8c59-1f79775216c2",
   "metadata": {
    "pagebreak_schema": "{\"cellsToScopes\":{\"de8177c4-a85f-4eae-8b26-ab5cb15a5923\":0,\"c7ad8658-6343-4570-9bb6-594a3bca9bf8\":0,\"bfd2ddd6-6eda-44aa-a391-de3694b4761f\":0,\"f5549241-a653-4e36-ac39-b1f877942069\":0,\"6011ad04-19fb-4cd3-8c59-1f79775216c2\":1,\"b53a64d3-180e-4ecf-9b5a-cd168c9cff5b\":1,\"7c6355f4-44ea-4c11-8ce8-4cf2567452d3\":1,\"4817584d-ccf3-495b-8695-15ad475ab56b\":1,\"4f49be85-3cf9-4ae4-b556-42993483c426\":2,\"885235c3-e063-4050-bac7-71c2a4e4a124\":2,\"fd2fe05c-7739-47fa-a80e-643781be2b7f\":3,\"1c7bedff-8a64-45b2-a82c-54f220166a12\":3,\"90f40335-8285-4bb9-8c30-12f2e302c372\":3},\"scopeList\":{\"0\":[\"d\",\"f\",\"nd\",\"g\"],\"1\":[\"g\",\"h\"],\"2\":[\"nd\",\"\"]}}"
   },
   "outputs": [
    {
     "ename": "NameError",
     "evalue": "name 'sf' is not defined",
     "output_type": "error",
     "traceback": [
      "\u001b[0;31m---------------------------------------------------------------------------\u001b[0m",
      "\u001b[0;31mNameError\u001b[0m                                 Traceback (most recent call last)",
      "Cell \u001b[0;32mIn[14], line 1\u001b[0m\n\u001b[0;32m----> 1\u001b[0m \u001b[43msf\u001b[49m\n",
      "\u001b[0;31mNameError\u001b[0m: name 'sf' is not defined"
     ]
    }
   ],
   "source": [
    "sf "
   ]
  },
  {
   "cell_type": "code",
   "execution_count": null,
   "id": "5014290f-8f62-4692-91d1-267712663a5d",
   "metadata": {},
   "outputs": [],
   "source": [
    "myclass.a = 191\n",
    "dd=11\n",
    "myclass.a\n",
    "print(dd)"
   ]
  },
  {
   "cell_type": "raw",
   "id": "3412adb8-2767-468c-b7a4-ea4488b1066b",
   "metadata": {
    "pagebreak": true
   },
   "source": [
    "export {  }"
   ]
  },
  {
   "cell_type": "code",
   "execution_count": 1,
   "id": "de8177c4-a85f-4eae-8b26-ab5cb15a5923",
   "metadata": {
    "pagebreak_schema": "{\"cellsToScopes\":{\"de8177c4-a85f-4eae-8b26-ab5cb15a5923\":0,\"c7ad8658-6343-4570-9bb6-594a3bca9bf8\":0,\"bfd2ddd6-6eda-44aa-a391-de3694b4761f\":0,\"f5549241-a653-4e36-ac39-b1f877942069\":0,\"6011ad04-19fb-4cd3-8c59-1f79775216c2\":1,\"b53a64d3-180e-4ecf-9b5a-cd168c9cff5b\":1,\"7c6355f4-44ea-4c11-8ce8-4cf2567452d3\":1,\"4817584d-ccf3-495b-8695-15ad475ab56b\":1,\"4f49be85-3cf9-4ae4-b556-42993483c426\":2,\"885235c3-e063-4050-bac7-71c2a4e4a124\":2,\"fd2fe05c-7739-47fa-a80e-643781be2b7f\":3,\"1c7bedff-8a64-45b2-a82c-54f220166a12\":3,\"90f40335-8285-4bb9-8c30-12f2e302c372\":3},\"scopeList\":{\"0\":[\"d\",\"f\",\"nd\",\"g\"],\"1\":[\"g\",\"h\"],\"2\":[\"nd\",\"\"]}}"
   },
   "outputs": [],
   "source": [
    "import warnings\n",
    "warnings.filterwarnings('always')\n",
    "import sys\n",
    "#!conda install --yes --prefix {sys.prefix} pandas\n",
    "import pandas as pd\n",
    "import inspect "
   ]
  }
 ],
 "metadata": {
  "kernelspec": {
   "display_name": "Python 3 (ipykernel)",
   "language": "python",
   "name": "python3"
  },
  "language_info": {
   "codemirror_mode": {
    "name": "ipython",
    "version": 3
   },
   "file_extension": ".py",
   "mimetype": "text/x-python",
   "name": "python",
   "nbconvert_exporter": "python",
   "pygments_lexer": "ipython3",
   "version": "3.12.2"
  }
 },
 "nbformat": 4,
 "nbformat_minor": 5
}
