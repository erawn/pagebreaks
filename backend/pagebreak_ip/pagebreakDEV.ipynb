{
 "cells": [
  {
   "cell_type": "code",
   "execution_count": 1,
   "id": "a9989c4a-2fd8-4641-89e9-458d0d6a9022",
   "metadata": {
    "pagebreak_schema": "{\"cellsToScopes\":{\"a9989c4a-2fd8-4641-89e9-458d0d6a9022\":0,\"6c10a87d-a2eb-4975-a5f5-6ef99504bcdb\":0,\"832ed7c3-be50-464e-9499-3c694a14ad5b\":0,\"c7ad8658-6343-4570-9bb6-594a3bca9bf8\":0,\"e49fde77-095a-4c02-90c6-12d2e0192c09\":1,\"6011ad04-19fb-4cd3-8c59-1f79775216c2\":1,\"b53a64d3-180e-4ecf-9b5a-cd168c9cff5b\":1,\"885235c3-e063-4050-bac7-71c2a4e4a124\":2,\"bfd2ddd6-6eda-44aa-a391-de3694b4761f\":2,\"8d255261-a5e6-4a61-8926-89e358fbd145\":2},\"scopeList\":{\"0\":[\"a\",\"d\",\"f\"],\"1\":[\"a\",\"b\",\"cd\",\"d\",\"\"]}}"
   },
   "outputs": [],
   "source": [
    "%load_ext pagebreaks_ip"
   ]
  },
  {
   "cell_type": "code",
   "execution_count": 3,
   "id": "6c10a87d-a2eb-4975-a5f5-6ef99504bcdb",
   "metadata": {
    "pagebreak_schema": "{\"cellsToScopes\":{\"a9989c4a-2fd8-4641-89e9-458d0d6a9022\":0,\"6c10a87d-a2eb-4975-a5f5-6ef99504bcdb\":0,\"832ed7c3-be50-464e-9499-3c694a14ad5b\":0,\"c7ad8658-6343-4570-9bb6-594a3bca9bf8\":0,\"e49fde77-095a-4c02-90c6-12d2e0192c09\":1,\"6011ad04-19fb-4cd3-8c59-1f79775216c2\":1,\"b53a64d3-180e-4ecf-9b5a-cd168c9cff5b\":1,\"885235c3-e063-4050-bac7-71c2a4e4a124\":2,\"bfd2ddd6-6eda-44aa-a391-de3694b4761f\":2,\"8d255261-a5e6-4a61-8926-89e358fbd145\":2},\"scopeList\":{\"0\":[\"a\",\"d\",\"f\"],\"1\":[\"a\",\"b\",\"cd\",\"d\",\"\"]}}"
   },
   "outputs": [
    {
     "name": "stdout",
     "output_type": "stream",
     "text": [
      "%pb_update\n",
      "Module(\n",
      "    body=[\n",
      "        Expr(\n",
      "            value=Call(\n",
      "                func=Attribute(\n",
      "                    value=Call(\n",
      "                        func=Name(id='get_ipython', ctx=Load()),\n",
      "                        args=[],\n",
      "                        keywords=[]),\n",
      "                    attr='run_line_magic',\n",
      "                    ctx=Load()),\n",
      "                args=[\n",
      "                    Constant(value='pb_update'),\n",
      "                    Constant(value='')],\n",
      "                keywords=[]))],\n",
      "    type_ignores=[])\n",
      "Called pb update line magic\n",
      "\n"
     ]
    },
    {
     "data": {
      "text/plain": [
       "''"
      ]
     },
     "execution_count": 3,
     "metadata": {},
     "output_type": "execute_result"
    }
   ],
   "source": [
    "%pb_update"
   ]
  },
  {
   "cell_type": "code",
   "execution_count": null,
   "id": "832ed7c3-be50-464e-9499-3c694a14ad5b",
   "metadata": {
    "pagebreak_schema": "{\"cellsToScopes\":{\"a9989c4a-2fd8-4641-89e9-458d0d6a9022\":0,\"6c10a87d-a2eb-4975-a5f5-6ef99504bcdb\":0,\"832ed7c3-be50-464e-9499-3c694a14ad5b\":0,\"c7ad8658-6343-4570-9bb6-594a3bca9bf8\":0,\"e49fde77-095a-4c02-90c6-12d2e0192c09\":1,\"6011ad04-19fb-4cd3-8c59-1f79775216c2\":1,\"b53a64d3-180e-4ecf-9b5a-cd168c9cff5b\":1,\"885235c3-e063-4050-bac7-71c2a4e4a124\":2,\"bfd2ddd6-6eda-44aa-a391-de3694b4761f\":2,\"8d255261-a5e6-4a61-8926-89e358fbd145\":2},\"scopeList\":{\"0\":[\"a\",\"d\",\"f\"],\"1\":[\"a\",\"b\",\"cd\",\"d\",\"\"]}}"
   },
   "outputs": [],
   "source": []
  },
  {
   "cell_type": "code",
   "execution_count": 3,
   "id": "c7ad8658-6343-4570-9bb6-594a3bca9bf8",
   "metadata": {
    "pagebreak_schema": "{\"cellsToScopes\":{\"a9989c4a-2fd8-4641-89e9-458d0d6a9022\":0,\"6c10a87d-a2eb-4975-a5f5-6ef99504bcdb\":0,\"832ed7c3-be50-464e-9499-3c694a14ad5b\":0,\"c7ad8658-6343-4570-9bb6-594a3bca9bf8\":0,\"e49fde77-095a-4c02-90c6-12d2e0192c09\":1,\"6011ad04-19fb-4cd3-8c59-1f79775216c2\":1,\"b53a64d3-180e-4ecf-9b5a-cd168c9cff5b\":1,\"885235c3-e063-4050-bac7-71c2a4e4a124\":2,\"bfd2ddd6-6eda-44aa-a391-de3694b4761f\":2,\"8d255261-a5e6-4a61-8926-89e358fbd145\":2},\"scopeList\":{\"0\":[\"a\",\"d\",\"f\"],\"1\":[\"a\",\"b\",\"cd\",\"d\",\"\"]}}"
   },
   "outputs": [
    {
     "name": "stdout",
     "output_type": "stream",
     "text": [
      "foundCellsToScopes [{'a9989c4a-2fd8-4641-89e9-458d0d6a9022': 0}, {'6c10a87d-a2eb-4975-a5f5-6ef99504bcdb': 0}, {'832ed7c3-be50-464e-9499-3c694a14ad5b': 0}, {'c7ad8658-6343-4570-9bb6-594a3bca9bf8': 0}, {'e49fde77-095a-4c02-90c6-12d2e0192c09': 1}, {'6011ad04-19fb-4cd3-8c59-1f79775216c2': 1}, {'b53a64d3-180e-4ecf-9b5a-cd168c9cff5b': 1}, {'885235c3-e063-4050-bac7-71c2a4e4a124': 2}, {'bfd2ddd6-6eda-44aa-a391-de3694b4761f': 2}, {'8d255261-a5e6-4a61-8926-89e358fbd145': 2}]\n",
      "found Scopelist [{'0': {'pbNum': 0, 'exportedVariables': ['a', 'd', 'f']}}, {'1': {'pbNum': 1, 'exportedVariables': ['a', 'b', 'cd', 'd', '']}}]\n",
      "New Definitions Found:\n",
      "{'a'}\n",
      "changing name [a] to [pb_1_a]\n"
     ]
    }
   ],
   "source": [
    "a = 12"
   ]
  },
  {
   "cell_type": "raw",
   "id": "f52ffe16-4c16-424c-85a2-dbe388a820c7",
   "metadata": {
    "pagebreak_schema": "{\"cellsToScopes\":{\"a9989c4a-2fd8-4641-89e9-458d0d6a9022\":0,\"6c10a87d-a2eb-4975-a5f5-6ef99504bcdb\":0,\"832ed7c3-be50-464e-9499-3c694a14ad5b\":0,\"c7ad8658-6343-4570-9bb6-594a3bca9bf8\":0,\"e49fde77-095a-4c02-90c6-12d2e0192c09\":1,\"6011ad04-19fb-4cd3-8c59-1f79775216c2\":1,\"b53a64d3-180e-4ecf-9b5a-cd168c9cff5b\":1,\"885235c3-e063-4050-bac7-71c2a4e4a124\":2,\"bfd2ddd6-6eda-44aa-a391-de3694b4761f\":2,\"8d255261-a5e6-4a61-8926-89e358fbd145\":2},\"scopeList\":{\"0\":[\"a\",\"d\",\"f\"],\"1\":[\"a\",\"b\",\"cd\",\"d\",\"\"]}}",
    "scrolled": true
   },
   "source": [
    "pb a d f"
   ]
  },
  {
   "cell_type": "code",
   "execution_count": 6,
   "id": "e49fde77-095a-4c02-90c6-12d2e0192c09",
   "metadata": {
    "pagebreak_schema": "{\"cellsToScopes\":{\"a9989c4a-2fd8-4641-89e9-458d0d6a9022\":0,\"6c10a87d-a2eb-4975-a5f5-6ef99504bcdb\":0,\"832ed7c3-be50-464e-9499-3c694a14ad5b\":0,\"c7ad8658-6343-4570-9bb6-594a3bca9bf8\":0,\"e49fde77-095a-4c02-90c6-12d2e0192c09\":1,\"6011ad04-19fb-4cd3-8c59-1f79775216c2\":1,\"b53a64d3-180e-4ecf-9b5a-cd168c9cff5b\":1,\"885235c3-e063-4050-bac7-71c2a4e4a124\":2,\"bfd2ddd6-6eda-44aa-a391-de3694b4761f\":2,\"8d255261-a5e6-4a61-8926-89e358fbd145\":2},\"scopeList\":{\"0\":[\"a\",\"d\",\"f\"],\"1\":[\"a\",\"b\",\"cd\",\"d\",\"\"]}}"
   },
   "outputs": [
    {
     "name": "stdout",
     "output_type": "stream",
     "text": [
      "pre run\n",
      "<ExecutionInfo object at 10f3483b0, raw_cell=\"%print_schema\" store_history=True silent=False shell_futures=True cell_id=e49fde77-095a-4c02-90c6-12d2e0192c09>\n",
      "Module(\n",
      "    body=[\n",
      "        Expr(\n",
      "            value=Call(\n",
      "                func=Attribute(\n",
      "                    value=Call(\n",
      "                        func=Name(id='get_ipython', ctx=Load()),\n",
      "                        args=[],\n",
      "                        keywords=[]),\n",
      "                    attr='run_line_magic',\n",
      "                    ctx=Load()),\n",
      "                args=[\n",
      "                    Constant(value='print_schema'),\n",
      "                    Constant(value='')],\n",
      "                keywords=[]))],\n",
      "    type_ignores=[])\n",
      "[{'a9989c4a-2fd8-4641-89e9-458d0d6a9022': {'index': 0, 'id': 'a9989c4a-2fd8-4641-89e9-458d0d6a9022', 'type': 'code', 'variables': ''}}, {'6c10a87d-a2eb-4975-a5f5-6ef99504bcdb': {'index': 1, 'id': '6c10a87d-a2eb-4975-a5f5-6ef99504bcdb', 'type': 'code', 'variables': ''}}, {'832ed7c3-be50-464e-9499-3c694a14ad5b': {'index': 2, 'id': '832ed7c3-be50-464e-9499-3c694a14ad5b', 'type': 'code', 'variables': ''}}, {'c7ad8658-6343-4570-9bb6-594a3bca9bf8': {'index': 3, 'id': 'c7ad8658-6343-4570-9bb6-594a3bca9bf8', 'type': 'code', 'variables': ''}}, {'f52ffe16-4c16-424c-85a2-dbe388a820c7': {'index': 4, 'id': 'f52ffe16-4c16-424c-85a2-dbe388a820c7', 'type': 'pagebreak', 'variables': 'a,d,f'}}, {'a2877817-0c4a-4c13-82c7-8d341b14b273': {'index': 5, 'id': 'a2877817-0c4a-4c13-82c7-8d341b14b273', 'type': 'code', 'variables': ''}}, {'e49fde77-095a-4c02-90c6-12d2e0192c09': {'index': 6, 'id': 'e49fde77-095a-4c02-90c6-12d2e0192c09', 'type': 'code', 'variables': ''}}, {'6011ad04-19fb-4cd3-8c59-1f79775216c2': {'index': 7, 'id': '6011ad04-19fb-4cd3-8c59-1f79775216c2', 'type': 'code', 'variables': ''}}, {'b53a64d3-180e-4ecf-9b5a-cd168c9cff5b': {'index': 8, 'id': 'b53a64d3-180e-4ecf-9b5a-cd168c9cff5b', 'type': 'code', 'variables': ''}}, {'f0775b4c-7724-404f-b89c-c17a15fe2f62': {'index': 9, 'id': 'f0775b4c-7724-404f-b89c-c17a15fe2f62', 'type': 'pagebreak', 'variables': 'a,b,cd,d,'}}, {'885235c3-e063-4050-bac7-71c2a4e4a124': {'index': 10, 'id': '885235c3-e063-4050-bac7-71c2a4e4a124', 'type': 'code', 'variables': ''}}, {'bfd2ddd6-6eda-44aa-a391-de3694b4761f': {'index': 11, 'id': 'bfd2ddd6-6eda-44aa-a391-de3694b4761f', 'type': 'code', 'variables': ''}}]\n"
     ]
    },
    {
     "data": {
      "text/plain": [
       "''"
      ]
     },
     "execution_count": 6,
     "metadata": {},
     "output_type": "execute_result"
    },
    {
     "name": "stdout",
     "output_type": "stream",
     "text": [
      "post run\n"
     ]
    }
   ],
   "source": [
    "%print_schema"
   ]
  },
  {
   "cell_type": "code",
   "execution_count": null,
   "id": "6011ad04-19fb-4cd3-8c59-1f79775216c2",
   "metadata": {
    "pagebreak_schema": "{\"cellsToScopes\":{\"a9989c4a-2fd8-4641-89e9-458d0d6a9022\":0,\"6c10a87d-a2eb-4975-a5f5-6ef99504bcdb\":0,\"832ed7c3-be50-464e-9499-3c694a14ad5b\":0,\"c7ad8658-6343-4570-9bb6-594a3bca9bf8\":0,\"e49fde77-095a-4c02-90c6-12d2e0192c09\":1,\"6011ad04-19fb-4cd3-8c59-1f79775216c2\":1,\"b53a64d3-180e-4ecf-9b5a-cd168c9cff5b\":1,\"885235c3-e063-4050-bac7-71c2a4e4a124\":2,\"bfd2ddd6-6eda-44aa-a391-de3694b4761f\":2,\"8d255261-a5e6-4a61-8926-89e358fbd145\":2},\"scopeList\":{\"0\":[\"a\",\"d\",\"f\"],\"1\":[\"a\",\"b\",\"cd\",\"d\",\"\"]}}"
   },
   "outputs": [],
   "source": []
  },
  {
   "cell_type": "code",
   "execution_count": 2,
   "id": "b53a64d3-180e-4ecf-9b5a-cd168c9cff5b",
   "metadata": {
    "pagebreak_schema": "{\"cellsToScopes\":{\"a9989c4a-2fd8-4641-89e9-458d0d6a9022\":0,\"6c10a87d-a2eb-4975-a5f5-6ef99504bcdb\":0,\"832ed7c3-be50-464e-9499-3c694a14ad5b\":0,\"c7ad8658-6343-4570-9bb6-594a3bca9bf8\":0,\"e49fde77-095a-4c02-90c6-12d2e0192c09\":1,\"6011ad04-19fb-4cd3-8c59-1f79775216c2\":1,\"b53a64d3-180e-4ecf-9b5a-cd168c9cff5b\":1,\"885235c3-e063-4050-bac7-71c2a4e4a124\":2,\"bfd2ddd6-6eda-44aa-a391-de3694b4761f\":2,\"8d255261-a5e6-4a61-8926-89e358fbd145\":2},\"scopeList\":{\"0\":[\"a\",\"d\",\"f\"],\"1\":[\"a\",\"b\",\"cd\",\"d\",\"\"]}}",
    "scrolled": true
   },
   "outputs": [
    {
     "name": "stdout",
     "output_type": "stream",
     "text": [
      "pre run\n",
      "<ExecutionInfo object at 112549d90, raw_cell=\"a = 3\" store_history=True silent=False shell_futures=True cell_id=b53a64d3-180e-4ecf-9b5a-cd168c9cff5b>\n",
      "New Definitions Found:\n",
      "{'a'}\n",
      "Module(\n",
      "    body=[\n",
      "        Assign(\n",
      "            targets=[\n",
      "                Name(id='a', ctx=Store())],\n",
      "            value=Constant(value=3))],\n",
      "    type_ignores=[])\n",
      "changing name [a] to [pb_1_a]\n",
      "post run\n"
     ]
    }
   ],
   "source": [
    "a = 3"
   ]
  },
  {
   "cell_type": "raw",
   "id": "f0775b4c-7724-404f-b89c-c17a15fe2f62",
   "metadata": {
    "pagebreak_schema": "{\"cellsToScopes\":{\"a9989c4a-2fd8-4641-89e9-458d0d6a9022\":0,\"6c10a87d-a2eb-4975-a5f5-6ef99504bcdb\":0,\"832ed7c3-be50-464e-9499-3c694a14ad5b\":0,\"c7ad8658-6343-4570-9bb6-594a3bca9bf8\":0,\"e49fde77-095a-4c02-90c6-12d2e0192c09\":1,\"6011ad04-19fb-4cd3-8c59-1f79775216c2\":1,\"b53a64d3-180e-4ecf-9b5a-cd168c9cff5b\":1,\"885235c3-e063-4050-bac7-71c2a4e4a124\":2,\"bfd2ddd6-6eda-44aa-a391-de3694b4761f\":2,\"8d255261-a5e6-4a61-8926-89e358fbd145\":2},\"scopeList\":{\"0\":[\"a\",\"d\",\"f\"],\"1\":[\"a\",\"b\",\"cd\",\"d\",\"\"]}}"
   },
   "source": [
    "pb a b cd d "
   ]
  },
  {
   "cell_type": "code",
   "execution_count": 14,
   "id": "885235c3-e063-4050-bac7-71c2a4e4a124",
   "metadata": {
    "pagebreak_schema": "{\"cellsToScopes\":{\"a9989c4a-2fd8-4641-89e9-458d0d6a9022\":0,\"6c10a87d-a2eb-4975-a5f5-6ef99504bcdb\":0,\"832ed7c3-be50-464e-9499-3c694a14ad5b\":0,\"c7ad8658-6343-4570-9bb6-594a3bca9bf8\":0,\"e49fde77-095a-4c02-90c6-12d2e0192c09\":1,\"6011ad04-19fb-4cd3-8c59-1f79775216c2\":1,\"b53a64d3-180e-4ecf-9b5a-cd168c9cff5b\":1,\"885235c3-e063-4050-bac7-71c2a4e4a124\":2,\"bfd2ddd6-6eda-44aa-a391-de3694b4761f\":2,\"8d255261-a5e6-4a61-8926-89e358fbd145\":2},\"scopeList\":{\"0\":[\"a\",\"d\",\"f\"],\"1\":[\"a\",\"b\",\"cd\",\"d\",\"\"]}}"
   },
   "outputs": [
    {
     "name": "stdout",
     "output_type": "stream",
     "text": [
      "pre run\n",
      "<ExecutionInfo object at 10f34a390, raw_cell=\"5\" store_history=True silent=False shell_futures=True cell_id=885235c3-e063-4050-bac7-71c2a4e4a124>\n",
      "Module(\n",
      "    body=[\n",
      "        Expr(\n",
      "            value=Constant(value=5))],\n",
      "    type_ignores=[])\n"
     ]
    },
    {
     "data": {
      "text/plain": [
       "5"
      ]
     },
     "execution_count": 14,
     "metadata": {},
     "output_type": "execute_result"
    },
    {
     "name": "stdout",
     "output_type": "stream",
     "text": [
      "post run\n"
     ]
    }
   ],
   "source": [
    "5"
   ]
  },
  {
   "cell_type": "code",
   "execution_count": 12,
   "id": "bfd2ddd6-6eda-44aa-a391-de3694b4761f",
   "metadata": {
    "pagebreak_schema": "{\"cellsToScopes\":{\"a9989c4a-2fd8-4641-89e9-458d0d6a9022\":0,\"6c10a87d-a2eb-4975-a5f5-6ef99504bcdb\":0,\"832ed7c3-be50-464e-9499-3c694a14ad5b\":0,\"c7ad8658-6343-4570-9bb6-594a3bca9bf8\":0,\"e49fde77-095a-4c02-90c6-12d2e0192c09\":1,\"6011ad04-19fb-4cd3-8c59-1f79775216c2\":1,\"b53a64d3-180e-4ecf-9b5a-cd168c9cff5b\":1,\"885235c3-e063-4050-bac7-71c2a4e4a124\":2,\"bfd2ddd6-6eda-44aa-a391-de3694b4761f\":2,\"8d255261-a5e6-4a61-8926-89e358fbd145\":2},\"scopeList\":{\"0\":[\"a\",\"d\",\"f\"],\"1\":[\"a\",\"b\",\"cd\",\"d\",\"\"]}}"
   },
   "outputs": [
    {
     "name": "stdout",
     "output_type": "stream",
     "text": [
      "pre run\n",
      "<ExecutionInfo object at 10f50cc20, raw_cell=\"3\" store_history=True silent=False shell_futures=True cell_id=bfd2ddd6-6eda-44aa-a391-de3694b4761f>\n",
      "Module(\n",
      "    body=[\n",
      "        Expr(\n",
      "            value=Constant(value=3))],\n",
      "    type_ignores=[])\n"
     ]
    },
    {
     "data": {
      "text/plain": [
       "3"
      ]
     },
     "execution_count": 12,
     "metadata": {},
     "output_type": "execute_result"
    },
    {
     "name": "stdout",
     "output_type": "stream",
     "text": [
      "post run\n"
     ]
    }
   ],
   "source": [
    "3"
   ]
  },
  {
   "cell_type": "code",
   "execution_count": null,
   "id": "8d255261-a5e6-4a61-8926-89e358fbd145",
   "metadata": {
    "pagebreak_schema": "{\"cellsToScopes\":{\"a9989c4a-2fd8-4641-89e9-458d0d6a9022\":0,\"6c10a87d-a2eb-4975-a5f5-6ef99504bcdb\":0,\"832ed7c3-be50-464e-9499-3c694a14ad5b\":0,\"c7ad8658-6343-4570-9bb6-594a3bca9bf8\":0,\"e49fde77-095a-4c02-90c6-12d2e0192c09\":1,\"6011ad04-19fb-4cd3-8c59-1f79775216c2\":1,\"b53a64d3-180e-4ecf-9b5a-cd168c9cff5b\":1,\"885235c3-e063-4050-bac7-71c2a4e4a124\":2,\"bfd2ddd6-6eda-44aa-a391-de3694b4761f\":2,\"8d255261-a5e6-4a61-8926-89e358fbd145\":2},\"scopeList\":{\"0\":[\"a\",\"d\",\"f\"],\"1\":[\"a\",\"b\",\"cd\",\"d\",\"\"]}}"
   },
   "outputs": [],
   "source": []
  }
 ],
 "metadata": {
  "kernelspec": {
   "display_name": "Python 3 (ipykernel)",
   "language": "python",
   "name": "python3"
  },
  "language_info": {
   "codemirror_mode": {
    "name": "ipython",
    "version": 3
   },
   "file_extension": ".py",
   "mimetype": "text/x-python",
   "name": "python",
   "nbconvert_exporter": "python",
   "pygments_lexer": "ipython3",
   "version": "3.12.2"
  }
 },
 "nbformat": 4,
 "nbformat_minor": 5
}
