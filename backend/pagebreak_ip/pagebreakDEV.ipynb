{
 "cells": [
  {
   "cell_type": "code",
   "execution_count": 1,
   "id": "de8177c4-a85f-4eae-8b26-ab5cb15a5923",
   "metadata": {
    "pagebreak_schema": "{\"cellsToScopes\":{\"de8177c4-a85f-4eae-8b26-ab5cb15a5923\":0,\"c7ad8658-6343-4570-9bb6-594a3bca9bf8\":0,\"bfd2ddd6-6eda-44aa-a391-de3694b4761f\":0,\"f5549241-a653-4e36-ac39-b1f877942069\":0,\"6011ad04-19fb-4cd3-8c59-1f79775216c2\":1,\"b53a64d3-180e-4ecf-9b5a-cd168c9cff5b\":1,\"7c6355f4-44ea-4c11-8ce8-4cf2567452d3\":1,\"4817584d-ccf3-495b-8695-15ad475ab56b\":1,\"4f49be85-3cf9-4ae4-b556-42993483c426\":2,\"885235c3-e063-4050-bac7-71c2a4e4a124\":2,\"fd2fe05c-7739-47fa-a80e-643781be2b7f\":3,\"1c7bedff-8a64-45b2-a82c-54f220166a12\":3,\"90f40335-8285-4bb9-8c30-12f2e302c372\":3},\"scopeList\":{\"0\":[\"d\",\"f\",\"nd\",\"g\"],\"1\":[\"g\",\"h\"],\"2\":[\"nd\",\"\"]}}"
   },
   "outputs": [
    {
     "name": "stdout",
     "output_type": "stream",
     "text": [
      "exportvariablenames {}\n",
      "push export variables {}\n",
      "transforming ast\n",
      "saved variables {0: set()}\n",
      "visit name export variables {0: {'f', 'nd', 'g', 'd'}, 1: {'h'}, 2: set(), 3: set(), 4: set()}\n"
     ]
    }
   ],
   "source": [
    "import warnings\n",
    "warnings.filterwarnings('always')"
   ]
  },
  {
   "cell_type": "code",
   "execution_count": 2,
   "id": "c7ad8658-6343-4570-9bb6-594a3bca9bf8",
   "metadata": {
    "pagebreak_schema": "{\"cellsToScopes\":{\"de8177c4-a85f-4eae-8b26-ab5cb15a5923\":0,\"c7ad8658-6343-4570-9bb6-594a3bca9bf8\":0,\"bfd2ddd6-6eda-44aa-a391-de3694b4761f\":0,\"f5549241-a653-4e36-ac39-b1f877942069\":0,\"6011ad04-19fb-4cd3-8c59-1f79775216c2\":1,\"b53a64d3-180e-4ecf-9b5a-cd168c9cff5b\":1,\"7c6355f4-44ea-4c11-8ce8-4cf2567452d3\":1,\"4817584d-ccf3-495b-8695-15ad475ab56b\":1,\"4f49be85-3cf9-4ae4-b556-42993483c426\":2,\"885235c3-e063-4050-bac7-71c2a4e4a124\":2,\"fd2fe05c-7739-47fa-a80e-643781be2b7f\":3,\"1c7bedff-8a64-45b2-a82c-54f220166a12\":3,\"90f40335-8285-4bb9-8c30-12f2e302c372\":3},\"scopeList\":{\"0\":[\"d\",\"f\",\"nd\",\"g\"],\"1\":[\"g\",\"h\"],\"2\":[\"nd\",\"\"]}}"
   },
   "outputs": [
    {
     "name": "stdout",
     "output_type": "stream",
     "text": [
      "exportvariablenames {}\n",
      "push export variables {}\n",
      "transforming ast\n",
      "saved variables {0: {'a'}}\n",
      "visit name export variables {0: {'g', 'f', 'nd', 'd'}, 1: {'h'}, 2: set(), 3: set(), 4: set()}\n",
      "changing name [a] to [pb_0_a]\n",
      "visit name export variables {0: {'g', 'f', 'nd', 'd'}, 1: {'h'}, 2: set(), 3: set(), 4: set()}\n",
      "changing name [a] to [pb_0_a]\n"
     ]
    },
    {
     "data": {
      "text/plain": [
       "12"
      ]
     },
     "execution_count": 2,
     "metadata": {},
     "output_type": "execute_result"
    }
   ],
   "source": [
    "a = 12\n",
    "a"
   ]
  },
  {
   "cell_type": "code",
   "execution_count": 3,
   "id": "bfd2ddd6-6eda-44aa-a391-de3694b4761f",
   "metadata": {
    "pagebreak_schema": "{\"cellsToScopes\":{\"de8177c4-a85f-4eae-8b26-ab5cb15a5923\":0,\"c7ad8658-6343-4570-9bb6-594a3bca9bf8\":0,\"bfd2ddd6-6eda-44aa-a391-de3694b4761f\":0,\"f5549241-a653-4e36-ac39-b1f877942069\":0,\"6011ad04-19fb-4cd3-8c59-1f79775216c2\":1,\"b53a64d3-180e-4ecf-9b5a-cd168c9cff5b\":1,\"7c6355f4-44ea-4c11-8ce8-4cf2567452d3\":1,\"4817584d-ccf3-495b-8695-15ad475ab56b\":1,\"4f49be85-3cf9-4ae4-b556-42993483c426\":2,\"885235c3-e063-4050-bac7-71c2a4e4a124\":2,\"fd2fe05c-7739-47fa-a80e-643781be2b7f\":3,\"1c7bedff-8a64-45b2-a82c-54f220166a12\":3,\"90f40335-8285-4bb9-8c30-12f2e302c372\":3},\"scopeList\":{\"0\":[\"d\",\"f\",\"nd\",\"g\"],\"1\":[\"g\",\"h\"],\"2\":[\"nd\",\"\"]}}"
   },
   "outputs": [
    {
     "name": "stdout",
     "output_type": "stream",
     "text": [
      "exportvariablenames {}\n",
      "push export variables {}\n",
      "transforming ast\n",
      "saved variables {0: {'a'}}\n",
      "visit name export variables {0: {'g', 'f', 'nd', 'd'}, 1: {'h'}, 2: set(), 3: set(), 4: set()}\n",
      "changing name [a] to [pb_0_a]\n"
     ]
    },
    {
     "data": {
      "text/plain": [
       "12"
      ]
     },
     "execution_count": 3,
     "metadata": {},
     "output_type": "execute_result"
    }
   ],
   "source": [
    "a"
   ]
  },
  {
   "cell_type": "code",
   "execution_count": 1,
   "id": "f5549241-a653-4e36-ac39-b1f877942069",
   "metadata": {
    "pagebreak_schema": "{\"cellsToScopes\":{\"de8177c4-a85f-4eae-8b26-ab5cb15a5923\":0,\"c7ad8658-6343-4570-9bb6-594a3bca9bf8\":0,\"bfd2ddd6-6eda-44aa-a391-de3694b4761f\":0,\"f5549241-a653-4e36-ac39-b1f877942069\":0,\"6011ad04-19fb-4cd3-8c59-1f79775216c2\":1,\"b53a64d3-180e-4ecf-9b5a-cd168c9cff5b\":1,\"7c6355f4-44ea-4c11-8ce8-4cf2567452d3\":1,\"4817584d-ccf3-495b-8695-15ad475ab56b\":1,\"4f49be85-3cf9-4ae4-b556-42993483c426\":2,\"885235c3-e063-4050-bac7-71c2a4e4a124\":2,\"fd2fe05c-7739-47fa-a80e-643781be2b7f\":3,\"1c7bedff-8a64-45b2-a82c-54f220166a12\":3,\"90f40335-8285-4bb9-8c30-12f2e302c372\":3},\"scopeList\":{\"0\":[\"d\",\"f\",\"nd\",\"g\"],\"1\":[\"g\",\"h\"],\"2\":[\"nd\",\"\"]}}",
    "scrolled": true
   },
   "outputs": [
    {
     "name": "stdout",
     "output_type": "stream",
     "text": [
      "exportvariablenames {}\n",
      "push export variables {}\n",
      "transforming ast\n",
      "saved variables {0: {'d'}}\n",
      "visit name export variables {0: {'g', 'd', 'nd', 'f'}, 1: {'h'}, 2: set(), 3: set(), 4: set()}\n",
      "changing name [d] to [pb_0_d]\n"
     ]
    }
   ],
   "source": [
    "d = [12]"
   ]
  },
  {
   "cell_type": "raw",
   "id": "f52ffe16-4c16-424c-85a2-dbe388a820c7",
   "metadata": {
    "pagebreak_schema": "{\"cellsToScopes\":{\"de8177c4-a85f-4eae-8b26-ab5cb15a5923\":0,\"c7ad8658-6343-4570-9bb6-594a3bca9bf8\":0,\"bfd2ddd6-6eda-44aa-a391-de3694b4761f\":0,\"f5549241-a653-4e36-ac39-b1f877942069\":0,\"6011ad04-19fb-4cd3-8c59-1f79775216c2\":1,\"b53a64d3-180e-4ecf-9b5a-cd168c9cff5b\":1,\"7c6355f4-44ea-4c11-8ce8-4cf2567452d3\":1,\"4817584d-ccf3-495b-8695-15ad475ab56b\":1,\"4f49be85-3cf9-4ae4-b556-42993483c426\":2,\"885235c3-e063-4050-bac7-71c2a4e4a124\":2,\"fd2fe05c-7739-47fa-a80e-643781be2b7f\":3,\"1c7bedff-8a64-45b2-a82c-54f220166a12\":3,\"90f40335-8285-4bb9-8c30-12f2e302c372\":3},\"scopeList\":{\"0\":[\"d\",\"f\",\"nd\",\"g\"],\"1\":[\"g\",\"h\"],\"2\":[\"nd\",\"\"]}}",
    "scrolled": true
   },
   "source": [
    "pb d f nd g"
   ]
  },
  {
   "cell_type": "code",
   "execution_count": 2,
   "id": "6011ad04-19fb-4cd3-8c59-1f79775216c2",
   "metadata": {
    "pagebreak_schema": "{\"cellsToScopes\":{\"de8177c4-a85f-4eae-8b26-ab5cb15a5923\":0,\"c7ad8658-6343-4570-9bb6-594a3bca9bf8\":0,\"bfd2ddd6-6eda-44aa-a391-de3694b4761f\":0,\"f5549241-a653-4e36-ac39-b1f877942069\":0,\"6011ad04-19fb-4cd3-8c59-1f79775216c2\":1,\"b53a64d3-180e-4ecf-9b5a-cd168c9cff5b\":1,\"7c6355f4-44ea-4c11-8ce8-4cf2567452d3\":1,\"4817584d-ccf3-495b-8695-15ad475ab56b\":1,\"4f49be85-3cf9-4ae4-b556-42993483c426\":2,\"885235c3-e063-4050-bac7-71c2a4e4a124\":2,\"fd2fe05c-7739-47fa-a80e-643781be2b7f\":3,\"1c7bedff-8a64-45b2-a82c-54f220166a12\":3,\"90f40335-8285-4bb9-8c30-12f2e302c372\":3},\"scopeList\":{\"0\":[\"d\",\"f\",\"nd\",\"g\"],\"1\":[\"g\",\"h\"],\"2\":[\"nd\",\"\"]}}"
   },
   "outputs": [
    {
     "name": "stdout",
     "output_type": "stream",
     "text": [
      "exportvariablenames {'pb_0_g': 'pb_export_g', 'pb_0_nd': 'pb_export_nd', 'pb_0_d': 'pb_export_d', 'pb_0_f': 'pb_export_f'}\n",
      "push export variables {'pb_export_d': [12]}\n",
      "transforming ast\n",
      "saved variables {0: {'d'}, 1: set()}\n",
      "visit name export variables {0: {'g', 'nd', 'd', 'f'}, 1: {'h'}, 2: set(), 3: set(), 4: set()}\n",
      "changing name [d] to [pb_0_d]\n",
      "pb_0_d pb_export_d\n"
     ]
    },
    {
     "ename": "PagebreakError",
     "evalue": "Attempted to Overwrite Read-Only Exported Variables: 'd'",
     "output_type": "error",
     "traceback": [
      "\u001b[0;36m  File \u001b[0;32m<string>\u001b[0;36m\u001b[0m\n\u001b[0;31mPagebreakError\u001b[0m\u001b[0;31m:\u001b[0m Attempted to Overwrite Read-Only Exported Variables: 'd'\n"
     ]
    }
   ],
   "source": [
    "d[0] = 14"
   ]
  },
  {
   "cell_type": "code",
   "execution_count": 5,
   "id": "b53a64d3-180e-4ecf-9b5a-cd168c9cff5b",
   "metadata": {
    "pagebreak_schema": "{\"cellsToScopes\":{\"de8177c4-a85f-4eae-8b26-ab5cb15a5923\":0,\"c7ad8658-6343-4570-9bb6-594a3bca9bf8\":0,\"bfd2ddd6-6eda-44aa-a391-de3694b4761f\":0,\"f5549241-a653-4e36-ac39-b1f877942069\":0,\"6011ad04-19fb-4cd3-8c59-1f79775216c2\":1,\"b53a64d3-180e-4ecf-9b5a-cd168c9cff5b\":1,\"7c6355f4-44ea-4c11-8ce8-4cf2567452d3\":1,\"4817584d-ccf3-495b-8695-15ad475ab56b\":1,\"4f49be85-3cf9-4ae4-b556-42993483c426\":2,\"885235c3-e063-4050-bac7-71c2a4e4a124\":2,\"fd2fe05c-7739-47fa-a80e-643781be2b7f\":3,\"1c7bedff-8a64-45b2-a82c-54f220166a12\":3,\"90f40335-8285-4bb9-8c30-12f2e302c372\":3},\"scopeList\":{\"0\":[\"d\",\"f\",\"nd\",\"g\"],\"1\":[\"g\",\"h\"],\"2\":[\"nd\",\"\"]}}",
    "scrolled": true
   },
   "outputs": [
    {
     "name": "stdout",
     "output_type": "stream",
     "text": [
      "exportvariablenames {'pb_0_d': 'pb_export_d', 'pb_0_g': 'pb_export_g', 'pb_0_nd': 'pb_export_nd', 'pb_0_f': 'pb_export_f'}\n",
      "push export variables {'pb_export_d': [12]}\n",
      "transforming ast\n",
      "saved variables {0: {'d', 'a'}, 1: set()}\n",
      "visit name export variables {0: {'nd', 'd', 'g', 'f'}, 1: {'h'}, 2: set(), 3: set(), 4: set()}\n",
      "changing name [d] to [pb_0_d]\n"
     ]
    },
    {
     "data": {
      "text/plain": [
       "[12]"
      ]
     },
     "execution_count": 5,
     "metadata": {},
     "output_type": "execute_result"
    }
   ],
   "source": [
    "d"
   ]
  },
  {
   "cell_type": "code",
   "execution_count": 20,
   "id": "7c6355f4-44ea-4c11-8ce8-4cf2567452d3",
   "metadata": {
    "pagebreak_schema": "{\"cellsToScopes\":{\"de8177c4-a85f-4eae-8b26-ab5cb15a5923\":0,\"c7ad8658-6343-4570-9bb6-594a3bca9bf8\":0,\"bfd2ddd6-6eda-44aa-a391-de3694b4761f\":0,\"f5549241-a653-4e36-ac39-b1f877942069\":0,\"6011ad04-19fb-4cd3-8c59-1f79775216c2\":1,\"b53a64d3-180e-4ecf-9b5a-cd168c9cff5b\":1,\"7c6355f4-44ea-4c11-8ce8-4cf2567452d3\":1,\"4817584d-ccf3-495b-8695-15ad475ab56b\":1,\"4f49be85-3cf9-4ae4-b556-42993483c426\":2,\"885235c3-e063-4050-bac7-71c2a4e4a124\":2,\"fd2fe05c-7739-47fa-a80e-643781be2b7f\":3,\"1c7bedff-8a64-45b2-a82c-54f220166a12\":3,\"90f40335-8285-4bb9-8c30-12f2e302c372\":3},\"scopeList\":{\"0\":[\"d\",\"f\",\"nd\",\"g\"],\"1\":[\"g\",\"h\"],\"2\":[\"nd\",\"\"]}}"
   },
   "outputs": [
    {
     "data": {
      "text/plain": [
       "[12]"
      ]
     },
     "execution_count": 20,
     "metadata": {},
     "output_type": "execute_result"
    }
   ],
   "source": [
    "pb_0_d"
   ]
  },
  {
   "cell_type": "code",
   "execution_count": 5,
   "id": "4817584d-ccf3-495b-8695-15ad475ab56b",
   "metadata": {
    "pagebreak_schema": "{\"cellsToScopes\":{\"de8177c4-a85f-4eae-8b26-ab5cb15a5923\":0,\"c7ad8658-6343-4570-9bb6-594a3bca9bf8\":0,\"bfd2ddd6-6eda-44aa-a391-de3694b4761f\":0,\"f5549241-a653-4e36-ac39-b1f877942069\":0,\"6011ad04-19fb-4cd3-8c59-1f79775216c2\":1,\"b53a64d3-180e-4ecf-9b5a-cd168c9cff5b\":1,\"7c6355f4-44ea-4c11-8ce8-4cf2567452d3\":1,\"4817584d-ccf3-495b-8695-15ad475ab56b\":1,\"4f49be85-3cf9-4ae4-b556-42993483c426\":2,\"885235c3-e063-4050-bac7-71c2a4e4a124\":2,\"fd2fe05c-7739-47fa-a80e-643781be2b7f\":3,\"1c7bedff-8a64-45b2-a82c-54f220166a12\":3,\"90f40335-8285-4bb9-8c30-12f2e302c372\":3},\"scopeList\":{\"0\":[\"d\",\"f\",\"nd\",\"g\"],\"1\":[\"g\",\"h\"],\"2\":[\"nd\",\"\"]}}"
   },
   "outputs": [
    {
     "ename": "NameError",
     "evalue": "name 'a' is not defined",
     "output_type": "error",
     "traceback": [
      "\u001b[0;31m---------------------------------------------------------------------------\u001b[0m",
      "\u001b[0;31mNameError\u001b[0m                                 Traceback (most recent call last)",
      "Cell \u001b[0;32mIn[5], line 1\u001b[0m\n\u001b[0;32m----> 1\u001b[0m \u001b[38;5;28mprint\u001b[39m(\u001b[43ma\u001b[49m)\n",
      "\u001b[0;31mNameError\u001b[0m: name 'a' is not defined"
     ]
    }
   ],
   "source": [
    "print(a)"
   ]
  },
  {
   "cell_type": "raw",
   "id": "f0775b4c-7724-404f-b89c-c17a15fe2f62",
   "metadata": {
    "pagebreak_schema": "{\"cellsToScopes\":{\"de8177c4-a85f-4eae-8b26-ab5cb15a5923\":0,\"c7ad8658-6343-4570-9bb6-594a3bca9bf8\":0,\"bfd2ddd6-6eda-44aa-a391-de3694b4761f\":0,\"f5549241-a653-4e36-ac39-b1f877942069\":0,\"6011ad04-19fb-4cd3-8c59-1f79775216c2\":1,\"b53a64d3-180e-4ecf-9b5a-cd168c9cff5b\":1,\"7c6355f4-44ea-4c11-8ce8-4cf2567452d3\":1,\"4817584d-ccf3-495b-8695-15ad475ab56b\":1,\"4f49be85-3cf9-4ae4-b556-42993483c426\":2,\"885235c3-e063-4050-bac7-71c2a4e4a124\":2,\"fd2fe05c-7739-47fa-a80e-643781be2b7f\":3,\"1c7bedff-8a64-45b2-a82c-54f220166a12\":3,\"90f40335-8285-4bb9-8c30-12f2e302c372\":3},\"scopeList\":{\"0\":[\"d\",\"f\",\"nd\",\"g\"],\"1\":[\"g\",\"h\"],\"2\":[\"nd\",\"\"]}}"
   },
   "source": [
    "pb h"
   ]
  },
  {
   "cell_type": "code",
   "execution_count": null,
   "id": "4f49be85-3cf9-4ae4-b556-42993483c426",
   "metadata": {
    "pagebreak_schema": "{\"cellsToScopes\":{\"de8177c4-a85f-4eae-8b26-ab5cb15a5923\":0,\"c7ad8658-6343-4570-9bb6-594a3bca9bf8\":0,\"bfd2ddd6-6eda-44aa-a391-de3694b4761f\":0,\"f5549241-a653-4e36-ac39-b1f877942069\":0,\"6011ad04-19fb-4cd3-8c59-1f79775216c2\":1,\"b53a64d3-180e-4ecf-9b5a-cd168c9cff5b\":1,\"7c6355f4-44ea-4c11-8ce8-4cf2567452d3\":1,\"4817584d-ccf3-495b-8695-15ad475ab56b\":1,\"4f49be85-3cf9-4ae4-b556-42993483c426\":2,\"885235c3-e063-4050-bac7-71c2a4e4a124\":2,\"fd2fe05c-7739-47fa-a80e-643781be2b7f\":3,\"1c7bedff-8a64-45b2-a82c-54f220166a12\":3,\"90f40335-8285-4bb9-8c30-12f2e302c372\":3},\"scopeList\":{\"0\":[\"d\",\"f\",\"nd\",\"g\"],\"1\":[\"g\",\"h\"],\"2\":[\"nd\",\"\"]}}"
   },
   "outputs": [],
   "source": []
  },
  {
   "cell_type": "code",
   "execution_count": 27,
   "id": "885235c3-e063-4050-bac7-71c2a4e4a124",
   "metadata": {
    "pagebreak_schema": "{\"cellsToScopes\":{\"de8177c4-a85f-4eae-8b26-ab5cb15a5923\":0,\"c7ad8658-6343-4570-9bb6-594a3bca9bf8\":0,\"bfd2ddd6-6eda-44aa-a391-de3694b4761f\":0,\"f5549241-a653-4e36-ac39-b1f877942069\":0,\"6011ad04-19fb-4cd3-8c59-1f79775216c2\":1,\"b53a64d3-180e-4ecf-9b5a-cd168c9cff5b\":1,\"7c6355f4-44ea-4c11-8ce8-4cf2567452d3\":1,\"4817584d-ccf3-495b-8695-15ad475ab56b\":1,\"4f49be85-3cf9-4ae4-b556-42993483c426\":2,\"885235c3-e063-4050-bac7-71c2a4e4a124\":2,\"fd2fe05c-7739-47fa-a80e-643781be2b7f\":3,\"1c7bedff-8a64-45b2-a82c-54f220166a12\":3,\"90f40335-8285-4bb9-8c30-12f2e302c372\":3},\"scopeList\":{\"0\":[\"d\",\"f\",\"nd\",\"g\"],\"1\":[\"g\",\"h\"],\"2\":[\"nd\",\"\"]}}"
   },
   "outputs": [],
   "source": [
    "nd = 6"
   ]
  },
  {
   "cell_type": "raw",
   "id": "d7944a11-f030-465c-91e5-e3ebc0f527cf",
   "metadata": {
    "pagebreak_schema": "{\"cellsToScopes\":{\"de8177c4-a85f-4eae-8b26-ab5cb15a5923\":0,\"c7ad8658-6343-4570-9bb6-594a3bca9bf8\":0,\"bfd2ddd6-6eda-44aa-a391-de3694b4761f\":0,\"f5549241-a653-4e36-ac39-b1f877942069\":0,\"6011ad04-19fb-4cd3-8c59-1f79775216c2\":1,\"b53a64d3-180e-4ecf-9b5a-cd168c9cff5b\":1,\"7c6355f4-44ea-4c11-8ce8-4cf2567452d3\":1,\"4817584d-ccf3-495b-8695-15ad475ab56b\":1,\"4f49be85-3cf9-4ae4-b556-42993483c426\":2,\"885235c3-e063-4050-bac7-71c2a4e4a124\":2,\"fd2fe05c-7739-47fa-a80e-643781be2b7f\":3,\"1c7bedff-8a64-45b2-a82c-54f220166a12\":3,\"90f40335-8285-4bb9-8c30-12f2e302c372\":3},\"scopeList\":{\"0\":[\"d\",\"f\",\"nd\",\"g\"],\"1\":[\"g\",\"h\"],\"2\":[\"nd\",\"\"]}}"
   },
   "source": [
    "pb "
   ]
  },
  {
   "cell_type": "code",
   "execution_count": 25,
   "id": "fd2fe05c-7739-47fa-a80e-643781be2b7f",
   "metadata": {
    "pagebreak_schema": "{\"cellsToScopes\":{\"de8177c4-a85f-4eae-8b26-ab5cb15a5923\":0,\"c7ad8658-6343-4570-9bb6-594a3bca9bf8\":0,\"bfd2ddd6-6eda-44aa-a391-de3694b4761f\":0,\"f5549241-a653-4e36-ac39-b1f877942069\":0,\"6011ad04-19fb-4cd3-8c59-1f79775216c2\":1,\"b53a64d3-180e-4ecf-9b5a-cd168c9cff5b\":1,\"7c6355f4-44ea-4c11-8ce8-4cf2567452d3\":1,\"4817584d-ccf3-495b-8695-15ad475ab56b\":1,\"4f49be85-3cf9-4ae4-b556-42993483c426\":2,\"885235c3-e063-4050-bac7-71c2a4e4a124\":2,\"fd2fe05c-7739-47fa-a80e-643781be2b7f\":3,\"1c7bedff-8a64-45b2-a82c-54f220166a12\":3,\"90f40335-8285-4bb9-8c30-12f2e302c372\":3},\"scopeList\":{\"0\":[\"d\",\"f\",\"nd\",\"g\"],\"1\":[\"g\",\"h\"],\"2\":[\"nd\",\"\"]}}"
   },
   "outputs": [
    {
     "name": "stdout",
     "output_type": "stream",
     "text": [
      "here\n",
      "5\n"
     ]
    }
   ],
   "source": [
    "print(nd)"
   ]
  },
  {
   "cell_type": "code",
   "execution_count": null,
   "id": "1c7bedff-8a64-45b2-a82c-54f220166a12",
   "metadata": {
    "pagebreak_schema": "{\"cellsToScopes\":{\"de8177c4-a85f-4eae-8b26-ab5cb15a5923\":0,\"c7ad8658-6343-4570-9bb6-594a3bca9bf8\":0,\"bfd2ddd6-6eda-44aa-a391-de3694b4761f\":0,\"f5549241-a653-4e36-ac39-b1f877942069\":0,\"6011ad04-19fb-4cd3-8c59-1f79775216c2\":1,\"b53a64d3-180e-4ecf-9b5a-cd168c9cff5b\":1,\"7c6355f4-44ea-4c11-8ce8-4cf2567452d3\":1,\"4817584d-ccf3-495b-8695-15ad475ab56b\":1,\"4f49be85-3cf9-4ae4-b556-42993483c426\":2,\"885235c3-e063-4050-bac7-71c2a4e4a124\":2,\"fd2fe05c-7739-47fa-a80e-643781be2b7f\":3,\"1c7bedff-8a64-45b2-a82c-54f220166a12\":3,\"90f40335-8285-4bb9-8c30-12f2e302c372\":3},\"scopeList\":{\"0\":[\"d\",\"f\",\"nd\",\"g\"],\"1\":[\"g\",\"h\"],\"2\":[\"nd\",\"\"]}}"
   },
   "outputs": [],
   "source": [
    "%who_ls"
   ]
  },
  {
   "cell_type": "raw",
   "id": "ea4ef689-297a-4350-9a77-b8ca8975cf79",
   "metadata": {
    "pagebreak_schema": "{\"cellsToScopes\":{\"de8177c4-a85f-4eae-8b26-ab5cb15a5923\":0,\"c7ad8658-6343-4570-9bb6-594a3bca9bf8\":0,\"bfd2ddd6-6eda-44aa-a391-de3694b4761f\":0,\"f5549241-a653-4e36-ac39-b1f877942069\":0,\"6011ad04-19fb-4cd3-8c59-1f79775216c2\":1,\"b53a64d3-180e-4ecf-9b5a-cd168c9cff5b\":1,\"7c6355f4-44ea-4c11-8ce8-4cf2567452d3\":1,\"4817584d-ccf3-495b-8695-15ad475ab56b\":1,\"4f49be85-3cf9-4ae4-b556-42993483c426\":2,\"885235c3-e063-4050-bac7-71c2a4e4a124\":2,\"fd2fe05c-7739-47fa-a80e-643781be2b7f\":3,\"1c7bedff-8a64-45b2-a82c-54f220166a12\":3,\"90f40335-8285-4bb9-8c30-12f2e302c372\":3},\"scopeList\":{\"0\":[\"d\",\"f\",\"nd\",\"g\"],\"1\":[\"g\",\"h\"],\"2\":[\"nd\",\"\"]}}"
   },
   "source": [
    "pb "
   ]
  },
  {
   "cell_type": "raw",
   "id": "b6796e6d-73c7-4707-afa4-b57045dad390",
   "metadata": {},
   "source": [
    " pb f => []"
   ]
  },
  {
   "cell_type": "code",
   "execution_count": null,
   "id": "7875ddba-cfaa-4b2f-9bf6-bf1b108bc4b1",
   "metadata": {},
   "outputs": [],
   "source": [
    "g = d + 1 "
   ]
  },
  {
   "cell_type": "raw",
   "id": "85e063a5-24cb-4abd-bdb7-d4e9dda2a447",
   "metadata": {},
   "source": [
    "pb "
   ]
  },
  {
   "cell_type": "code",
   "execution_count": null,
   "id": "59635ffc-7196-4005-b425-4c1a556f8303",
   "metadata": {},
   "outputs": [],
   "source": []
  }
 ],
 "metadata": {
  "kernelspec": {
   "display_name": "Python 3 (ipykernel)",
   "language": "python",
   "name": "python3"
  },
  "language_info": {
   "codemirror_mode": {
    "name": "ipython",
    "version": 3
   },
   "file_extension": ".py",
   "mimetype": "text/x-python",
   "name": "python",
   "nbconvert_exporter": "python",
   "pygments_lexer": "ipython3",
   "version": "3.12.2"
  }
 },
 "nbformat": 4,
 "nbformat_minor": 5
}
