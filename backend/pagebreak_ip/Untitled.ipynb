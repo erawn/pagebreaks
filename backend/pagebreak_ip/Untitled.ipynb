{
 "cells": [
  {
   "cell_type": "code",
   "execution_count": 2,
   "id": "bf3fb8eb-c6e7-46b9-a19c-b9ec711a0451",
   "metadata": {
    "pagebreak_schema": "{\"cellsToScopes\":{\"bf3fb8eb-c6e7-46b9-a19c-b9ec711a0451\":0,\"7cad7924-923e-4a34-8328-0e9705b72a48\":0},\"scopeList\":{\"0\":[]}}"
   },
   "outputs": [
    {
     "name": "stdout",
     "output_type": "stream",
     "text": [
      "schema error\n",
      "ABORTING: Have not yet connected to Jupyter Extension, is it installed?\n"
     ]
    }
   ],
   "source": [
    "a = 2"
   ]
  },
  {
   "cell_type": "code",
   "execution_count": null,
   "id": "7cad7924-923e-4a34-8328-0e9705b72a48",
   "metadata": {
    "pagebreak_schema": "{\"cellsToScopes\":{\"bf3fb8eb-c6e7-46b9-a19c-b9ec711a0451\":0,\"7cad7924-923e-4a34-8328-0e9705b72a48\":0},\"scopeList\":{\"0\":[]}}"
   },
   "outputs": [],
   "source": []
  }
 ],
 "metadata": {
  "kernelspec": {
   "display_name": "Python 3 (ipykernel)",
   "language": "python",
   "name": "python3"
  },
  "language_info": {
   "codemirror_mode": {
    "name": "ipython",
    "version": 3
   },
   "file_extension": ".py",
   "mimetype": "text/x-python",
   "name": "python",
   "nbconvert_exporter": "python",
   "pygments_lexer": "ipython3",
   "version": "3.12.2"
  }
 },
 "nbformat": 4,
 "nbformat_minor": 5
}
