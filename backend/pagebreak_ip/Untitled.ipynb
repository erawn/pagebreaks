{
 "cells": [
  {
   "cell_type": "code",
   "execution_count": 1,
   "id": "bf3fb8eb-c6e7-46b9-a19c-b9ec711a0451",
   "metadata": {
    "pagebreak_schema": "{\"cellsToScopes\":{\"bf3fb8eb-c6e7-46b9-a19c-b9ec711a0451\":0,\"7cad7924-923e-4a34-8328-0e9705b72a48\":0},\"scopeList\":{\"0\":[]}}"
   },
   "outputs": [
    {
     "ename": "ModuleNotFoundError",
     "evalue": "No module named 'pandas'",
     "output_type": "error",
     "traceback": [
      "\u001b[0;31m---------------------------------------------------------------------------\u001b[0m",
      "\u001b[0;31mModuleNotFoundError\u001b[0m                       Traceback (most recent call last)",
      "Cell \u001b[0;32mIn[1], line 1\u001b[0m\n\u001b[0;32m----> 1\u001b[0m \u001b[38;5;28;01mimport\u001b[39;00m \u001b[38;5;21;01mpandas\u001b[39;00m \u001b[38;5;28;01mas\u001b[39;00m \u001b[38;5;21;01mpd\u001b[39;00m\n",
      "\u001b[0;31mModuleNotFoundError\u001b[0m: No module named 'pandas'"
     ]
    }
   ],
   "source": [
    "import pandas as pd"
   ]
  },
  {
   "cell_type": "code",
   "execution_count": null,
   "id": "7cad7924-923e-4a34-8328-0e9705b72a48",
   "metadata": {
    "pagebreak_schema": "{\"cellsToScopes\":{\"bf3fb8eb-c6e7-46b9-a19c-b9ec711a0451\":0,\"7cad7924-923e-4a34-8328-0e9705b72a48\":0},\"scopeList\":{\"0\":[]}}"
   },
   "outputs": [],
   "source": []
  }
 ],
 "metadata": {
  "kernelspec": {
   "display_name": "Python 3 (ipykernel)",
   "language": "python",
   "name": "python3"
  },
  "language_info": {
   "codemirror_mode": {
    "name": "ipython",
    "version": 3
   },
   "file_extension": ".py",
   "mimetype": "text/x-python",
   "name": "python",
   "nbconvert_exporter": "python",
   "pygments_lexer": "ipython3",
   "version": "3.12.2"
  }
 },
 "nbformat": 4,
 "nbformat_minor": 5
}
