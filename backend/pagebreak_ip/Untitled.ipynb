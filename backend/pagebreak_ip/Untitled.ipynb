{
 "cells": [
  {
   "cell_type": "code",
   "execution_count": 1,
   "id": "a9989c4a-2fd8-4641-89e9-458d0d6a9022",
   "metadata": {},
   "outputs": [],
   "source": [
    "%reload_ext extension"
   ]
  },
  {
   "cell_type": "code",
   "execution_count": 10,
   "id": "b48b8c33-ef10-44bd-a320-66924c689bac",
   "metadata": {},
   "outputs": [
    {
     "name": "stdout",
     "output_type": "stream",
     "text": [
      "New Definitions Found:\n",
      "set()\n",
      "<class 'ast.Load'>\n",
      "New Definitions Found:\n",
      "set()\n",
      "<class 'ast.Load'>\n",
      "New Definitions Found:\n",
      "set()\n",
      "<class 'ast.Load'>\n"
     ]
    },
    {
     "name": "stderr",
     "output_type": "stream",
     "text": [
      "UsageError: %%pagebreak is a cell magic, but the cell body is empty.\n"
     ]
    }
   ],
   "source": [
    "%%pagebreak"
   ]
  },
  {
   "cell_type": "raw",
   "id": "f52ffe16-4c16-424c-85a2-dbe388a820c7",
   "metadata": {
    "scrolled": true
   },
   "source": [
    "pb a d f"
   ]
  },
  {
   "cell_type": "code",
   "execution_count": 1,
   "id": "b53a64d3-180e-4ecf-9b5a-cd168c9cff5b",
   "metadata": {
    "scrolled": true
   },
   "outputs": [],
   "source": [
    "a = 3"
   ]
  },
  {
   "cell_type": "raw",
   "id": "f0775b4c-7724-404f-b89c-c17a15fe2f62",
   "metadata": {},
   "source": [
    "pb a b cd d "
   ]
  },
  {
   "cell_type": "code",
   "execution_count": null,
   "id": "885235c3-e063-4050-bac7-71c2a4e4a124",
   "metadata": {},
   "outputs": [],
   "source": []
  },
  {
   "cell_type": "code",
   "execution_count": null,
   "id": "bfd2ddd6-6eda-44aa-a391-de3694b4761f",
   "metadata": {},
   "outputs": [],
   "source": []
  }
 ],
 "metadata": {
  "kernelspec": {
   "display_name": "Python 3 (ipykernel)",
   "language": "python",
   "name": "python3"
  },
  "language_info": {
   "codemirror_mode": {
    "name": "ipython",
    "version": 3
   },
   "file_extension": ".py",
   "mimetype": "text/x-python",
   "name": "python",
   "nbconvert_exporter": "python",
   "pygments_lexer": "ipython3",
   "version": "3.12.2"
  }
 },
 "nbformat": 4,
 "nbformat_minor": 5
}
