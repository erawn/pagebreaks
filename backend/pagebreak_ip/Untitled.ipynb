{
 "cells": [
  {
   "cell_type": "code",
   "execution_count": 4,
   "id": "c3384ad5-05d4-4b91-b2db-077bcbccff47",
   "metadata": {},
   "outputs": [
    {
     "name": "stdout",
     "output_type": "stream",
     "text": [
      "The pagebreak_ip module is not an IPython extension.\n"
     ]
    }
   ],
   "source": [
    "%load_ext pagebreak_ip"
   ]
  },
  {
   "cell_type": "code",
   "execution_count": 2,
   "id": "151c5ccc-c010-4be8-a1d5-c95ed9d50094",
   "metadata": {},
   "outputs": [],
   "source": []
  },
  {
   "cell_type": "code",
   "execution_count": null,
   "id": "72cc16c6-581a-455f-9cae-0aad1ad4edc8",
   "metadata": {},
   "outputs": [],
   "source": []
  }
 ],
 "metadata": {
  "kernelspec": {
   "display_name": "Python 3 (ipykernel)",
   "language": "python",
   "name": "python3"
  },
  "language_info": {
   "codemirror_mode": {
    "name": "ipython",
    "version": 3
   },
   "file_extension": ".py",
   "mimetype": "text/x-python",
   "name": "python",
   "nbconvert_exporter": "python",
   "pygments_lexer": "ipython3",
   "version": "3.12.2"
  }
 },
 "nbformat": 4,
 "nbformat_minor": 5
}
