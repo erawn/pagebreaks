{
 "cells": [
  {
   "cell_type": "markdown",
   "id": "8c1a6827-5675-465a-9d0f-3f0ec9f668e0",
   "metadata": {
    "pagebreakheader": true
   },
   "source": [
    "# New Pagebreak "
   ]
  },
  {
   "cell_type": "code",
   "execution_count": 1,
   "id": "781af373-dcb3-4f91-b7ef-c2299fa44e38",
   "metadata": {},
   "outputs": [],
   "source": [
    "%load_ext pagebreaksip"
   ]
  },
  {
   "cell_type": "code",
   "execution_count": 2,
   "id": "2fddb9f4-d0bb-4558-ba48-42fdd30f5ee0",
   "metadata": {},
   "outputs": [],
   "source": [
    "a = 2\n",
    "b = 1"
   ]
  },
  {
   "cell_type": "code",
   "execution_count": 3,
   "id": "72dba8b6-1c85-48db-b808-c7f1046803a5",
   "metadata": {},
   "outputs": [
    {
     "data": {
      "text/plain": [
       "['pb_0_a', 'pb_0_b', 'sys']"
      ]
     },
     "execution_count": 3,
     "metadata": {},
     "output_type": "execute_result"
    }
   ],
   "source": [
    "%who_ls"
   ]
  },
  {
   "cell_type": "raw",
   "id": "26c795a5-bd56-4f16-9433-885ad8bea68f",
   "metadata": {
    "pagebreak": true
   },
   "source": [
    "export { a }"
   ]
  },
  {
   "cell_type": "code",
   "execution_count": 4,
   "id": "4e781510-5ea9-41b1-ad35-8105434a2b29",
   "metadata": {},
   "outputs": [
    {
     "data": {
      "text/plain": [
       "2"
      ]
     },
     "execution_count": 4,
     "metadata": {},
     "output_type": "execute_result"
    }
   ],
   "source": [
    "print(\"a = \",a)"
   ]
  },
  {
   "cell_type": "code",
   "execution_count": 5,
   "id": "0d12e747-a559-4993-b24c-0784b061de74",
   "metadata": {},
   "outputs": [
    {
     "data": {
      "text/plain": [
       "1"
      ]
     },
     "execution_count": 5,
     "metadata": {},
     "output_type": "execute_result"
    }
   ],
   "source": [
    "print(\"b = \",b)"
   ]
  }
 ],
 "metadata": {
  "kernelspec": {
   "display_name": "Python 3 (ipykernel)",
   "language": "python",
   "name": "python3"
  },
  "language_info": {
   "codemirror_mode": {
    "name": "ipython",
    "version": 3
   },
   "file_extension": ".py",
   "mimetype": "text/x-python",
   "name": "python",
   "nbconvert_exporter": "python",
   "pygments_lexer": "ipython3",
   "version": "3.12.2"
  }
 },
 "nbformat": 4,
 "nbformat_minor": 5
}
